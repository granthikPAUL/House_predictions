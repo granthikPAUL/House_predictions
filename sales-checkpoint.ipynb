{
 "cells": [
  {
   "cell_type": "code",
   "execution_count": null,
   "metadata": {},
   "outputs": [],
   "source": [
    "import numpy as np\n",
    "import pandas as pd\n",
    "import matplotlib.pyplot as plt\n",
    "import statsmodels.api as sm\n",
    "import seaborn as sns\n",
    "sns.set()\n",
    "from sklearn.linear_model import LogisticRegression\n",
    "from sklearn.model_selection import train_test_split"
   ]
  },
  {
   "cell_type": "code",
   "execution_count": null,
   "metadata": {},
   "outputs": [],
   "source": [
    "x=pd.read_csv(\"trainS.csv\")"
   ]
  },
  {
   "cell_type": "code",
   "execution_count": null,
   "metadata": {},
   "outputs": [],
   "source": [
    "x.shape"
   ]
  },
  {
   "cell_type": "code",
   "execution_count": null,
   "metadata": {},
   "outputs": [],
   "source": [
    "x.head()\n"
   ]
  },
  {
   "cell_type": "code",
   "execution_count": 6,
   "metadata": {},
   "outputs": [],
   "source": [
    "x1=x.loc[:,x.dtypes==np.float64]\n"
   ]
  },
  {
   "cell_type": "code",
   "execution_count": 7,
   "metadata": {},
   "outputs": [
    {
     "data": {
      "text/plain": [
       "LotFrontage    float64\n",
       "MasVnrArea     float64\n",
       "GarageYrBlt    float64\n",
       "dtype: object"
      ]
     },
     "execution_count": 7,
     "metadata": {},
     "output_type": "execute_result"
    }
   ],
   "source": [
    "x1.dtypes"
   ]
  },
  {
   "cell_type": "code",
   "execution_count": null,
   "metadata": {},
   "outputs": [],
   "source": [
    "x1.head()"
   ]
  },
  {
   "cell_type": "markdown",
   "metadata": {},
   "source": [
    "x2=x.loc[:,x.dtypes==np.int64]"
   ]
  },
  {
   "cell_type": "code",
   "execution_count": 10,
   "metadata": {},
   "outputs": [
    {
     "data": {
      "text/plain": [
       "Id               int64\n",
       "MSSubClass       int64\n",
       "LotArea          int64\n",
       "OverallQual      int64\n",
       "OverallCond      int64\n",
       "YearBuilt        int64\n",
       "YearRemodAdd     int64\n",
       "BsmtFinSF1       int64\n",
       "BsmtFinSF2       int64\n",
       "BsmtUnfSF        int64\n",
       "TotalBsmtSF      int64\n",
       "1stFlrSF         int64\n",
       "2ndFlrSF         int64\n",
       "LowQualFinSF     int64\n",
       "GrLivArea        int64\n",
       "BsmtFullBath     int64\n",
       "BsmtHalfBath     int64\n",
       "FullBath         int64\n",
       "HalfBath         int64\n",
       "BedroomAbvGr     int64\n",
       "KitchenAbvGr     int64\n",
       "TotRmsAbvGrd     int64\n",
       "Fireplaces       int64\n",
       "GarageCars       int64\n",
       "GarageArea       int64\n",
       "WoodDeckSF       int64\n",
       "OpenPorchSF      int64\n",
       "EnclosedPorch    int64\n",
       "3SsnPorch        int64\n",
       "ScreenPorch      int64\n",
       "PoolArea         int64\n",
       "MiscVal          int64\n",
       "MoSold           int64\n",
       "YrSold           int64\n",
       "SalePrice        int64\n",
       "dtype: object"
      ]
     },
     "execution_count": 10,
     "metadata": {},
     "output_type": "execute_result"
    }
   ],
   "source": [
    "x2.dtypes"
   ]
  },
  {
   "cell_type": "code",
   "execution_count": 11,
   "metadata": {},
   "outputs": [],
   "source": [
    "x3=x.loc[:,x.dtypes==np.object]"
   ]
  },
  {
   "cell_type": "code",
   "execution_count": 12,
   "metadata": {},
   "outputs": [
    {
     "data": {
      "text/plain": [
       "MSZoning            0\n",
       "Street              0\n",
       "Alley            1369\n",
       "LotShape            0\n",
       "LandContour         0\n",
       "Utilities           0\n",
       "LotConfig           0\n",
       "LandSlope           0\n",
       "Neighborhood        0\n",
       "Condition1          0\n",
       "Condition2          0\n",
       "BldgType            0\n",
       "HouseStyle          0\n",
       "RoofStyle           0\n",
       "RoofMatl            0\n",
       "Exterior1st         0\n",
       "Exterior2nd         0\n",
       "MasVnrType          8\n",
       "ExterQual           0\n",
       "ExterCond           0\n",
       "Foundation          0\n",
       "BsmtQual           37\n",
       "BsmtCond           37\n",
       "BsmtExposure       38\n",
       "BsmtFinType1       37\n",
       "BsmtFinType2       38\n",
       "Heating             0\n",
       "HeatingQC           0\n",
       "CentralAir          0\n",
       "Electrical          1\n",
       "KitchenQual         0\n",
       "Functional          0\n",
       "FireplaceQu       690\n",
       "GarageType         81\n",
       "GarageFinish       81\n",
       "GarageQual         81\n",
       "GarageCond         81\n",
       "PavedDrive          0\n",
       "PoolQC           1453\n",
       "Fence            1179\n",
       "MiscFeature      1406\n",
       "SaleType            0\n",
       "SaleCondition       0\n",
       "dtype: int64"
      ]
     },
     "execution_count": 12,
     "metadata": {},
     "output_type": "execute_result"
    }
   ],
   "source": [
    "x3.isnull().sum()"
   ]
  },
  {
   "cell_type": "code",
   "execution_count": 13,
   "metadata": {},
   "outputs": [
    {
     "data": {
      "text/plain": [
       "MSZoning         0\n",
       "Street           0\n",
       "LotShape         0\n",
       "LandContour      0\n",
       "Utilities        0\n",
       "LotConfig        0\n",
       "LandSlope        0\n",
       "Neighborhood     0\n",
       "Condition1       0\n",
       "Condition2       0\n",
       "BldgType         0\n",
       "HouseStyle       0\n",
       "RoofStyle        0\n",
       "RoofMatl         0\n",
       "Exterior1st      0\n",
       "Exterior2nd      0\n",
       "ExterQual        0\n",
       "ExterCond        0\n",
       "Foundation       0\n",
       "Heating          0\n",
       "HeatingQC        0\n",
       "CentralAir       0\n",
       "KitchenQual      0\n",
       "Functional       0\n",
       "PavedDrive       0\n",
       "SaleType         0\n",
       "SaleCondition    0\n",
       "dtype: int64"
      ]
     },
     "execution_count": 13,
     "metadata": {},
     "output_type": "execute_result"
    }
   ],
   "source": [
    "x3=x3.dropna(axis=1)\n",
    "x3.isnull().sum()"
   ]
  },
  {
   "cell_type": "code",
   "execution_count": 14,
   "metadata": {},
   "outputs": [
    {
     "data": {
      "text/plain": [
       "LotFrontage    259\n",
       "MasVnrArea       8\n",
       "GarageYrBlt     81\n",
       "dtype: int64"
      ]
     },
     "execution_count": 14,
     "metadata": {},
     "output_type": "execute_result"
    }
   ],
   "source": [
    "x1.isnull().sum()"
   ]
  },
  {
   "cell_type": "code",
   "execution_count": 15,
   "metadata": {},
   "outputs": [
    {
     "name": "stderr",
     "output_type": "stream",
     "text": [
      "E:\\New folder (2)\\lib\\site-packages\\pandas\\core\\generic.py:5434: SettingWithCopyWarning: \n",
      "A value is trying to be set on a copy of a slice from a DataFrame\n",
      "\n",
      "See the caveats in the documentation: http://pandas.pydata.org/pandas-docs/stable/indexing.html#indexing-view-versus-copy\n",
      "  self._update_inplace(new_data)\n"
     ]
    }
   ],
   "source": [
    "x1[\"LotFrontage\"].fillna(x1[\"LotFrontage\"].mean(),inplace=True)\n",
    "x1[\"MasVnrArea\"].fillna(x1[\"MasVnrArea\"].mean(),inplace=True)\n",
    "x1[\"GarageYrBlt\"].fillna(x1[\"GarageYrBlt\"].mean(),inplace=True)\n"
   ]
  },
  {
   "cell_type": "code",
   "execution_count": 16,
   "metadata": {},
   "outputs": [
    {
     "data": {
      "text/plain": [
       "LotFrontage    0\n",
       "MasVnrArea     0\n",
       "GarageYrBlt    0\n",
       "dtype: int64"
      ]
     },
     "execution_count": 16,
     "metadata": {},
     "output_type": "execute_result"
    }
   ],
   "source": [
    "x1.isnull().sum()"
   ]
  },
  {
   "cell_type": "code",
   "execution_count": 17,
   "metadata": {},
   "outputs": [],
   "source": [
    "x1=x1.astype(int)"
   ]
  },
  {
   "cell_type": "code",
   "execution_count": 18,
   "metadata": {},
   "outputs": [
    {
     "data": {
      "text/plain": [
       "LotFrontage    int32\n",
       "MasVnrArea     int32\n",
       "GarageYrBlt    int32\n",
       "dtype: object"
      ]
     },
     "execution_count": 18,
     "metadata": {},
     "output_type": "execute_result"
    }
   ],
   "source": [
    "x1.dtypes"
   ]
  },
  {
   "cell_type": "code",
   "execution_count": 19,
   "metadata": {},
   "outputs": [
    {
     "data": {
      "text/plain": [
       "Id               0\n",
       "MSSubClass       0\n",
       "LotArea          0\n",
       "OverallQual      0\n",
       "OverallCond      0\n",
       "YearBuilt        0\n",
       "YearRemodAdd     0\n",
       "BsmtFinSF1       0\n",
       "BsmtFinSF2       0\n",
       "BsmtUnfSF        0\n",
       "TotalBsmtSF      0\n",
       "1stFlrSF         0\n",
       "2ndFlrSF         0\n",
       "LowQualFinSF     0\n",
       "GrLivArea        0\n",
       "BsmtFullBath     0\n",
       "BsmtHalfBath     0\n",
       "FullBath         0\n",
       "HalfBath         0\n",
       "BedroomAbvGr     0\n",
       "KitchenAbvGr     0\n",
       "TotRmsAbvGrd     0\n",
       "Fireplaces       0\n",
       "GarageCars       0\n",
       "GarageArea       0\n",
       "WoodDeckSF       0\n",
       "OpenPorchSF      0\n",
       "EnclosedPorch    0\n",
       "3SsnPorch        0\n",
       "ScreenPorch      0\n",
       "PoolArea         0\n",
       "MiscVal          0\n",
       "MoSold           0\n",
       "YrSold           0\n",
       "SalePrice        0\n",
       "dtype: int64"
      ]
     },
     "execution_count": 19,
     "metadata": {},
     "output_type": "execute_result"
    }
   ],
   "source": [
    "x2.isnull().sum()"
   ]
  },
  {
   "cell_type": "code",
   "execution_count": 20,
   "metadata": {},
   "outputs": [],
   "source": [
    "X=x2[\"SalePrice\"]"
   ]
  },
  {
   "cell_type": "code",
   "execution_count": 21,
   "metadata": {},
   "outputs": [
    {
     "data": {
      "text/plain": [
       "0    208500\n",
       "1    181500\n",
       "2    223500\n",
       "3    140000\n",
       "4    250000\n",
       "Name: SalePrice, dtype: int64"
      ]
     },
     "execution_count": 21,
     "metadata": {},
     "output_type": "execute_result"
    }
   ],
   "source": [
    "X.head()"
   ]
  },
  {
   "cell_type": "code",
   "execution_count": 22,
   "metadata": {},
   "outputs": [
    {
     "data": {
      "text/html": [
       "<table class=\"simpletable\">\n",
       "<caption>OLS Regression Results</caption>\n",
       "<tr>\n",
       "  <th>Dep. Variable:</th>        <td>SalePrice</td>    <th>  R-squared:         </th> <td>   0.419</td> \n",
       "</tr>\n",
       "<tr>\n",
       "  <th>Model:</th>                   <td>OLS</td>       <th>  Adj. R-squared:    </th> <td>   0.418</td> \n",
       "</tr>\n",
       "<tr>\n",
       "  <th>Method:</th>             <td>Least Squares</td>  <th>  F-statistic:       </th> <td>   350.1</td> \n",
       "</tr>\n",
       "<tr>\n",
       "  <th>Date:</th>             <td>Tue, 18 Jun 2019</td> <th>  Prob (F-statistic):</th> <td>3.94e-171</td>\n",
       "</tr>\n",
       "<tr>\n",
       "  <th>Time:</th>                 <td>08:54:50</td>     <th>  Log-Likelihood:    </th> <td> -18148.</td> \n",
       "</tr>\n",
       "<tr>\n",
       "  <th>No. Observations:</th>      <td>  1460</td>      <th>  AIC:               </th> <td>3.630e+04</td>\n",
       "</tr>\n",
       "<tr>\n",
       "  <th>Df Residuals:</th>          <td>  1456</td>      <th>  BIC:               </th> <td>3.632e+04</td>\n",
       "</tr>\n",
       "<tr>\n",
       "  <th>Df Model:</th>              <td>     3</td>      <th>                     </th>     <td> </td>    \n",
       "</tr>\n",
       "<tr>\n",
       "  <th>Covariance Type:</th>      <td>nonrobust</td>    <th>                     </th>     <td> </td>    \n",
       "</tr>\n",
       "</table>\n",
       "<table class=\"simpletable\">\n",
       "<tr>\n",
       "       <td></td>          <th>coef</th>     <th>std err</th>      <th>t</th>      <th>P>|t|</th>  <th>[0.025</th>    <th>0.975]</th>  \n",
       "</tr>\n",
       "<tr>\n",
       "  <th>const</th>       <td>-2.326e+06</td> <td> 1.35e+05</td> <td>  -17.238</td> <td> 0.000</td> <td>-2.59e+06</td> <td>-2.06e+06</td>\n",
       "</tr>\n",
       "<tr>\n",
       "  <th>LotFrontage</th> <td>  902.9910</td> <td>   73.255</td> <td>   12.327</td> <td> 0.000</td> <td>  759.294</td> <td> 1046.688</td>\n",
       "</tr>\n",
       "<tr>\n",
       "  <th>MasVnrArea</th>  <td>  148.5740</td> <td>    9.208</td> <td>   16.135</td> <td> 0.000</td> <td>  130.511</td> <td>  166.637</td>\n",
       "</tr>\n",
       "<tr>\n",
       "  <th>GarageYrBlt</th> <td> 1227.3004</td> <td>   68.317</td> <td>   17.965</td> <td> 0.000</td> <td> 1093.290</td> <td> 1361.311</td>\n",
       "</tr>\n",
       "</table>\n",
       "<table class=\"simpletable\">\n",
       "<tr>\n",
       "  <th>Omnibus:</th>       <td>490.223</td> <th>  Durbin-Watson:     </th> <td>   1.990</td>\n",
       "</tr>\n",
       "<tr>\n",
       "  <th>Prob(Omnibus):</th> <td> 0.000</td>  <th>  Jarque-Bera (JB):  </th> <td>3468.042</td>\n",
       "</tr>\n",
       "<tr>\n",
       "  <th>Skew:</th>          <td> 1.378</td>  <th>  Prob(JB):          </th> <td>    0.00</td>\n",
       "</tr>\n",
       "<tr>\n",
       "  <th>Kurtosis:</th>      <td>10.030</td>  <th>  Cond. No.          </th> <td>1.69e+05</td>\n",
       "</tr>\n",
       "</table><br/><br/>Warnings:<br/>[1] Standard Errors assume that the covariance matrix of the errors is correctly specified.<br/>[2] The condition number is large, 1.69e+05. This might indicate that there are<br/>strong multicollinearity or other numerical problems."
      ],
      "text/plain": [
       "<class 'statsmodels.iolib.summary.Summary'>\n",
       "\"\"\"\n",
       "                            OLS Regression Results                            \n",
       "==============================================================================\n",
       "Dep. Variable:              SalePrice   R-squared:                       0.419\n",
       "Model:                            OLS   Adj. R-squared:                  0.418\n",
       "Method:                 Least Squares   F-statistic:                     350.1\n",
       "Date:                Tue, 18 Jun 2019   Prob (F-statistic):          3.94e-171\n",
       "Time:                        08:54:50   Log-Likelihood:                -18148.\n",
       "No. Observations:                1460   AIC:                         3.630e+04\n",
       "Df Residuals:                    1456   BIC:                         3.632e+04\n",
       "Df Model:                           3                                         \n",
       "Covariance Type:            nonrobust                                         \n",
       "===============================================================================\n",
       "                  coef    std err          t      P>|t|      [0.025      0.975]\n",
       "-------------------------------------------------------------------------------\n",
       "const       -2.326e+06   1.35e+05    -17.238      0.000   -2.59e+06   -2.06e+06\n",
       "LotFrontage   902.9910     73.255     12.327      0.000     759.294    1046.688\n",
       "MasVnrArea    148.5740      9.208     16.135      0.000     130.511     166.637\n",
       "GarageYrBlt  1227.3004     68.317     17.965      0.000    1093.290    1361.311\n",
       "==============================================================================\n",
       "Omnibus:                      490.223   Durbin-Watson:                   1.990\n",
       "Prob(Omnibus):                  0.000   Jarque-Bera (JB):             3468.042\n",
       "Skew:                           1.378   Prob(JB):                         0.00\n",
       "Kurtosis:                      10.030   Cond. No.                     1.69e+05\n",
       "==============================================================================\n",
       "\n",
       "Warnings:\n",
       "[1] Standard Errors assume that the covariance matrix of the errors is correctly specified.\n",
       "[2] The condition number is large, 1.69e+05. This might indicate that there are\n",
       "strong multicollinearity or other numerical problems.\n",
       "\"\"\""
      ]
     },
     "execution_count": 22,
     "metadata": {},
     "output_type": "execute_result"
    }
   ],
   "source": [
    "b=sm.add_constant(x1)\n",
    "results=sm.OLS(X,b).fit()\n",
    "results.summary()"
   ]
  },
  {
   "cell_type": "code",
   "execution_count": 23,
   "metadata": {},
   "outputs": [
    {
     "data": {
      "text/html": [
       "<table class=\"simpletable\">\n",
       "<caption>OLS Regression Results</caption>\n",
       "<tr>\n",
       "  <th>Dep. Variable:</th>        <td>SalePrice</td>    <th>  R-squared:         </th>  <td>   1.000</td> \n",
       "</tr>\n",
       "<tr>\n",
       "  <th>Model:</th>                   <td>OLS</td>       <th>  Adj. R-squared:    </th>  <td>   1.000</td> \n",
       "</tr>\n",
       "<tr>\n",
       "  <th>Method:</th>             <td>Least Squares</td>  <th>  F-statistic:       </th>  <td>1.762e+28</td>\n",
       "</tr>\n",
       "<tr>\n",
       "  <th>Date:</th>             <td>Tue, 18 Jun 2019</td> <th>  Prob (F-statistic):</th>   <td>  0.00</td>  \n",
       "</tr>\n",
       "<tr>\n",
       "  <th>Time:</th>                 <td>08:54:50</td>     <th>  Log-Likelihood:    </th>  <td>  26185.</td> \n",
       "</tr>\n",
       "<tr>\n",
       "  <th>No. Observations:</th>      <td>  1460</td>      <th>  AIC:               </th> <td>-5.230e+04</td>\n",
       "</tr>\n",
       "<tr>\n",
       "  <th>Df Residuals:</th>          <td>  1426</td>      <th>  BIC:               </th> <td>-5.212e+04</td>\n",
       "</tr>\n",
       "<tr>\n",
       "  <th>Df Model:</th>              <td>    33</td>      <th>                     </th>      <td> </td>    \n",
       "</tr>\n",
       "<tr>\n",
       "  <th>Covariance Type:</th>      <td>nonrobust</td>    <th>                     </th>      <td> </td>    \n",
       "</tr>\n",
       "</table>\n",
       "<table class=\"simpletable\">\n",
       "<tr>\n",
       "        <td></td>           <th>coef</th>     <th>std err</th>      <th>t</th>      <th>P>|t|</th>  <th>[0.025</th>    <th>0.975]</th>  \n",
       "</tr>\n",
       "<tr>\n",
       "  <th>const</th>         <td> 7.451e-09</td> <td> 1.62e-07</td> <td>    0.046</td> <td> 0.963</td> <td> -3.1e-07</td> <td> 3.25e-07</td>\n",
       "</tr>\n",
       "<tr>\n",
       "  <th>Id</th>            <td> 1.754e-14</td> <td>  2.5e-13</td> <td>    0.070</td> <td> 0.944</td> <td>-4.73e-13</td> <td> 5.08e-13</td>\n",
       "</tr>\n",
       "<tr>\n",
       "  <th>MSSubClass</th>    <td>-8.527e-14</td> <td> 3.04e-12</td> <td>   -0.028</td> <td> 0.978</td> <td>-6.05e-12</td> <td> 5.88e-12</td>\n",
       "</tr>\n",
       "<tr>\n",
       "  <th>LotArea</th>       <td> 1.665e-16</td> <td> 1.16e-14</td> <td>    0.014</td> <td> 0.989</td> <td>-2.26e-14</td> <td> 2.29e-14</td>\n",
       "</tr>\n",
       "<tr>\n",
       "  <th>OverallQual</th>   <td>-5.002e-12</td> <td> 1.46e-10</td> <td>   -0.034</td> <td> 0.973</td> <td>-2.91e-10</td> <td> 2.81e-10</td>\n",
       "</tr>\n",
       "<tr>\n",
       "  <th>OverallCond</th>   <td> 8.129e-12</td> <td> 1.18e-10</td> <td>    0.069</td> <td> 0.945</td> <td>-2.23e-10</td> <td> 2.39e-10</td>\n",
       "</tr>\n",
       "<tr>\n",
       "  <th>YearBuilt</th>     <td> 2.487e-14</td> <td> 7.01e-12</td> <td>    0.004</td> <td> 0.997</td> <td>-1.37e-11</td> <td> 1.38e-11</td>\n",
       "</tr>\n",
       "<tr>\n",
       "  <th>YearRemodAdd</th>  <td> 5.684e-14</td> <td> 7.53e-12</td> <td>    0.008</td> <td> 0.994</td> <td>-1.47e-11</td> <td> 1.48e-11</td>\n",
       "</tr>\n",
       "<tr>\n",
       "  <th>BsmtFinSF1</th>    <td> 5.329e-15</td> <td> 2.89e-13</td> <td>    0.018</td> <td> 0.985</td> <td>-5.61e-13</td> <td> 5.72e-13</td>\n",
       "</tr>\n",
       "<tr>\n",
       "  <th>BsmtFinSF2</th>    <td> 2.487e-14</td> <td> 5.15e-13</td> <td>    0.048</td> <td> 0.961</td> <td>-9.85e-13</td> <td> 1.03e-12</td>\n",
       "</tr>\n",
       "<tr>\n",
       "  <th>BsmtUnfSF</th>     <td> 5.329e-15</td> <td> 2.76e-13</td> <td>    0.019</td> <td> 0.985</td> <td>-5.35e-13</td> <td> 5.46e-13</td>\n",
       "</tr>\n",
       "<tr>\n",
       "  <th>TotalBsmtSF</th>   <td> 2.309e-14</td> <td> 3.86e-13</td> <td>    0.060</td> <td> 0.952</td> <td>-7.34e-13</td> <td>  7.8e-13</td>\n",
       "</tr>\n",
       "<tr>\n",
       "  <th>1stFlrSF</th>      <td> 3.553e-14</td> <td> 7.02e-13</td> <td>    0.051</td> <td> 0.960</td> <td>-1.34e-12</td> <td> 1.41e-12</td>\n",
       "</tr>\n",
       "<tr>\n",
       "  <th>2ndFlrSF</th>      <td> 3.197e-14</td> <td> 6.49e-13</td> <td>    0.049</td> <td> 0.961</td> <td>-1.24e-12</td> <td>  1.3e-12</td>\n",
       "</tr>\n",
       "<tr>\n",
       "  <th>LowQualFinSF</th>  <td>-9.237e-14</td> <td> 1.69e-12</td> <td>   -0.055</td> <td> 0.956</td> <td> -3.4e-12</td> <td> 3.22e-12</td>\n",
       "</tr>\n",
       "<tr>\n",
       "  <th>GrLivArea</th>     <td>-2.842e-14</td> <td> 6.54e-13</td> <td>   -0.043</td> <td> 0.965</td> <td>-1.31e-12</td> <td> 1.25e-12</td>\n",
       "</tr>\n",
       "<tr>\n",
       "  <th>BsmtFullBath</th>  <td>-2.728e-12</td> <td>    3e-10</td> <td>   -0.009</td> <td> 0.993</td> <td> -5.9e-10</td> <td> 5.85e-10</td>\n",
       "</tr>\n",
       "<tr>\n",
       "  <th>BsmtHalfBath</th>  <td> 2.183e-11</td> <td> 4.68e-10</td> <td>    0.047</td> <td> 0.963</td> <td>-8.96e-10</td> <td>  9.4e-10</td>\n",
       "</tr>\n",
       "<tr>\n",
       "  <th>FullBath</th>      <td>         0</td> <td> 3.22e-10</td> <td>        0</td> <td> 1.000</td> <td>-6.32e-10</td> <td> 6.32e-10</td>\n",
       "</tr>\n",
       "<tr>\n",
       "  <th>HalfBath</th>      <td>-5.457e-12</td> <td> 3.05e-10</td> <td>   -0.018</td> <td> 0.986</td> <td>-6.03e-10</td> <td> 5.92e-10</td>\n",
       "</tr>\n",
       "<tr>\n",
       "  <th>BedroomAbvGr</th>  <td>-1.273e-11</td> <td> 1.97e-10</td> <td>   -0.065</td> <td> 0.948</td> <td>-3.98e-10</td> <td> 3.73e-10</td>\n",
       "</tr>\n",
       "<tr>\n",
       "  <th>KitchenAbvGr</th>  <td> 1.273e-11</td> <td> 5.97e-10</td> <td>    0.021</td> <td> 0.983</td> <td>-1.16e-09</td> <td> 1.18e-09</td>\n",
       "</tr>\n",
       "<tr>\n",
       "  <th>TotRmsAbvGrd</th>  <td> 6.168e-12</td> <td> 1.42e-10</td> <td>    0.043</td> <td> 0.965</td> <td>-2.73e-10</td> <td> 2.86e-10</td>\n",
       "</tr>\n",
       "<tr>\n",
       "  <th>Fireplaces</th>    <td> 2.274e-12</td> <td> 2.02e-10</td> <td>    0.011</td> <td> 0.991</td> <td>-3.95e-10</td> <td> 3.99e-10</td>\n",
       "</tr>\n",
       "<tr>\n",
       "  <th>GarageCars</th>    <td>-1.819e-12</td> <td> 3.28e-10</td> <td>   -0.006</td> <td> 0.996</td> <td>-6.46e-10</td> <td> 6.42e-10</td>\n",
       "</tr>\n",
       "<tr>\n",
       "  <th>GarageArea</th>    <td> 7.105e-14</td> <td> 1.11e-12</td> <td>    0.064</td> <td> 0.949</td> <td>-2.11e-12</td> <td> 2.25e-12</td>\n",
       "</tr>\n",
       "<tr>\n",
       "  <th>WoodDeckSF</th>    <td> 1.421e-14</td> <td> 9.16e-13</td> <td>    0.016</td> <td> 0.988</td> <td>-1.78e-12</td> <td> 1.81e-12</td>\n",
       "</tr>\n",
       "<tr>\n",
       "  <th>OpenPorchSF</th>   <td> 2.132e-14</td> <td> 1.73e-12</td> <td>    0.012</td> <td> 0.990</td> <td>-3.38e-12</td> <td> 3.42e-12</td>\n",
       "</tr>\n",
       "<tr>\n",
       "  <th>EnclosedPorch</th> <td>-8.171e-14</td> <td> 1.93e-12</td> <td>   -0.042</td> <td> 0.966</td> <td>-3.87e-12</td> <td>  3.7e-12</td>\n",
       "</tr>\n",
       "<tr>\n",
       "  <th>3SsnPorch</th>     <td>-1.421e-14</td> <td>  3.6e-12</td> <td>   -0.004</td> <td> 0.997</td> <td>-7.07e-12</td> <td> 7.04e-12</td>\n",
       "</tr>\n",
       "<tr>\n",
       "  <th>ScreenPorch</th>   <td>-7.105e-15</td> <td> 1.97e-12</td> <td>   -0.004</td> <td> 0.997</td> <td>-3.88e-12</td> <td> 3.87e-12</td>\n",
       "</tr>\n",
       "<tr>\n",
       "  <th>PoolArea</th>      <td> 8.527e-14</td> <td>  2.7e-12</td> <td>    0.032</td> <td> 0.975</td> <td>-5.22e-12</td> <td> 5.39e-12</td>\n",
       "</tr>\n",
       "<tr>\n",
       "  <th>MiscVal</th>       <td>-1.243e-14</td> <td> 2.12e-13</td> <td>   -0.059</td> <td> 0.953</td> <td>-4.29e-13</td> <td> 4.04e-13</td>\n",
       "</tr>\n",
       "<tr>\n",
       "  <th>MoSold</th>        <td> 2.274e-13</td> <td> 3.95e-11</td> <td>    0.006</td> <td> 0.995</td> <td>-7.72e-11</td> <td> 7.77e-11</td>\n",
       "</tr>\n",
       "<tr>\n",
       "  <th>YrSold</th>        <td>-1.819e-12</td> <td> 8.04e-11</td> <td>   -0.023</td> <td> 0.982</td> <td> -1.6e-10</td> <td> 1.56e-10</td>\n",
       "</tr>\n",
       "<tr>\n",
       "  <th>SalePrice</th>     <td>    1.0000</td> <td>    3e-15</td> <td> 3.33e+14</td> <td> 0.000</td> <td>    1.000</td> <td>    1.000</td>\n",
       "</tr>\n",
       "</table>\n",
       "<table class=\"simpletable\">\n",
       "<tr>\n",
       "  <th>Omnibus:</th>       <td>432.097</td> <th>  Durbin-Watson:     </th> <td>   0.000</td>\n",
       "</tr>\n",
       "<tr>\n",
       "  <th>Prob(Omnibus):</th> <td> 0.000</td>  <th>  Jarque-Bera (JB):  </th> <td>2336.676</td>\n",
       "</tr>\n",
       "<tr>\n",
       "  <th>Skew:</th>          <td> 1.274</td>  <th>  Prob(JB):          </th> <td>    0.00</td>\n",
       "</tr>\n",
       "<tr>\n",
       "  <th>Kurtosis:</th>      <td> 8.650</td>  <th>  Cond. No.          </th> <td>1.09e+16</td>\n",
       "</tr>\n",
       "</table><br/><br/>Warnings:<br/>[1] Standard Errors assume that the covariance matrix of the errors is correctly specified.<br/>[2] The smallest eigenvalue is 4.79e-19. This might indicate that there are<br/>strong multicollinearity problems or that the design matrix is singular."
      ],
      "text/plain": [
       "<class 'statsmodels.iolib.summary.Summary'>\n",
       "\"\"\"\n",
       "                            OLS Regression Results                            \n",
       "==============================================================================\n",
       "Dep. Variable:              SalePrice   R-squared:                       1.000\n",
       "Model:                            OLS   Adj. R-squared:                  1.000\n",
       "Method:                 Least Squares   F-statistic:                 1.762e+28\n",
       "Date:                Tue, 18 Jun 2019   Prob (F-statistic):               0.00\n",
       "Time:                        08:54:50   Log-Likelihood:                 26185.\n",
       "No. Observations:                1460   AIC:                        -5.230e+04\n",
       "Df Residuals:                    1426   BIC:                        -5.212e+04\n",
       "Df Model:                          33                                         \n",
       "Covariance Type:            nonrobust                                         \n",
       "=================================================================================\n",
       "                    coef    std err          t      P>|t|      [0.025      0.975]\n",
       "---------------------------------------------------------------------------------\n",
       "const          7.451e-09   1.62e-07      0.046      0.963    -3.1e-07    3.25e-07\n",
       "Id             1.754e-14    2.5e-13      0.070      0.944   -4.73e-13    5.08e-13\n",
       "MSSubClass    -8.527e-14   3.04e-12     -0.028      0.978   -6.05e-12    5.88e-12\n",
       "LotArea        1.665e-16   1.16e-14      0.014      0.989   -2.26e-14    2.29e-14\n",
       "OverallQual   -5.002e-12   1.46e-10     -0.034      0.973   -2.91e-10    2.81e-10\n",
       "OverallCond    8.129e-12   1.18e-10      0.069      0.945   -2.23e-10    2.39e-10\n",
       "YearBuilt      2.487e-14   7.01e-12      0.004      0.997   -1.37e-11    1.38e-11\n",
       "YearRemodAdd   5.684e-14   7.53e-12      0.008      0.994   -1.47e-11    1.48e-11\n",
       "BsmtFinSF1     5.329e-15   2.89e-13      0.018      0.985   -5.61e-13    5.72e-13\n",
       "BsmtFinSF2     2.487e-14   5.15e-13      0.048      0.961   -9.85e-13    1.03e-12\n",
       "BsmtUnfSF      5.329e-15   2.76e-13      0.019      0.985   -5.35e-13    5.46e-13\n",
       "TotalBsmtSF    2.309e-14   3.86e-13      0.060      0.952   -7.34e-13     7.8e-13\n",
       "1stFlrSF       3.553e-14   7.02e-13      0.051      0.960   -1.34e-12    1.41e-12\n",
       "2ndFlrSF       3.197e-14   6.49e-13      0.049      0.961   -1.24e-12     1.3e-12\n",
       "LowQualFinSF  -9.237e-14   1.69e-12     -0.055      0.956    -3.4e-12    3.22e-12\n",
       "GrLivArea     -2.842e-14   6.54e-13     -0.043      0.965   -1.31e-12    1.25e-12\n",
       "BsmtFullBath  -2.728e-12      3e-10     -0.009      0.993    -5.9e-10    5.85e-10\n",
       "BsmtHalfBath   2.183e-11   4.68e-10      0.047      0.963   -8.96e-10     9.4e-10\n",
       "FullBath               0   3.22e-10          0      1.000   -6.32e-10    6.32e-10\n",
       "HalfBath      -5.457e-12   3.05e-10     -0.018      0.986   -6.03e-10    5.92e-10\n",
       "BedroomAbvGr  -1.273e-11   1.97e-10     -0.065      0.948   -3.98e-10    3.73e-10\n",
       "KitchenAbvGr   1.273e-11   5.97e-10      0.021      0.983   -1.16e-09    1.18e-09\n",
       "TotRmsAbvGrd   6.168e-12   1.42e-10      0.043      0.965   -2.73e-10    2.86e-10\n",
       "Fireplaces     2.274e-12   2.02e-10      0.011      0.991   -3.95e-10    3.99e-10\n",
       "GarageCars    -1.819e-12   3.28e-10     -0.006      0.996   -6.46e-10    6.42e-10\n",
       "GarageArea     7.105e-14   1.11e-12      0.064      0.949   -2.11e-12    2.25e-12\n",
       "WoodDeckSF     1.421e-14   9.16e-13      0.016      0.988   -1.78e-12    1.81e-12\n",
       "OpenPorchSF    2.132e-14   1.73e-12      0.012      0.990   -3.38e-12    3.42e-12\n",
       "EnclosedPorch -8.171e-14   1.93e-12     -0.042      0.966   -3.87e-12     3.7e-12\n",
       "3SsnPorch     -1.421e-14    3.6e-12     -0.004      0.997   -7.07e-12    7.04e-12\n",
       "ScreenPorch   -7.105e-15   1.97e-12     -0.004      0.997   -3.88e-12    3.87e-12\n",
       "PoolArea       8.527e-14    2.7e-12      0.032      0.975   -5.22e-12    5.39e-12\n",
       "MiscVal       -1.243e-14   2.12e-13     -0.059      0.953   -4.29e-13    4.04e-13\n",
       "MoSold         2.274e-13   3.95e-11      0.006      0.995   -7.72e-11    7.77e-11\n",
       "YrSold        -1.819e-12   8.04e-11     -0.023      0.982    -1.6e-10    1.56e-10\n",
       "SalePrice         1.0000      3e-15   3.33e+14      0.000       1.000       1.000\n",
       "==============================================================================\n",
       "Omnibus:                      432.097   Durbin-Watson:                   0.000\n",
       "Prob(Omnibus):                  0.000   Jarque-Bera (JB):             2336.676\n",
       "Skew:                           1.274   Prob(JB):                         0.00\n",
       "Kurtosis:                       8.650   Cond. No.                     1.09e+16\n",
       "==============================================================================\n",
       "\n",
       "Warnings:\n",
       "[1] Standard Errors assume that the covariance matrix of the errors is correctly specified.\n",
       "[2] The smallest eigenvalue is 4.79e-19. This might indicate that there are\n",
       "strong multicollinearity problems or that the design matrix is singular.\n",
       "\"\"\""
      ]
     },
     "execution_count": 23,
     "metadata": {},
     "output_type": "execute_result"
    }
   ],
   "source": [
    "c=sm.add_constant(x2)\n",
    "results=sm.OLS(X,c).fit()\n",
    "results.summary()"
   ]
  },
  {
   "cell_type": "code",
   "execution_count": 24,
   "metadata": {},
   "outputs": [
    {
     "name": "stderr",
     "output_type": "stream",
     "text": [
      "E:\\New folder (2)\\lib\\site-packages\\pandas\\core\\frame.py:3697: SettingWithCopyWarning: \n",
      "A value is trying to be set on a copy of a slice from a DataFrame\n",
      "\n",
      "See the caveats in the documentation: http://pandas.pydata.org/pandas-docs/stable/indexing.html#indexing-view-versus-copy\n",
      "  errors=errors)\n"
     ]
    }
   ],
   "source": [
    "x2.drop([\"SalePrice\"],axis=1,inplace=True)\n"
   ]
  },
  {
   "cell_type": "code",
   "execution_count": 25,
   "metadata": {},
   "outputs": [
    {
     "data": {
      "text/html": [
       "<div>\n",
       "<style scoped>\n",
       "    .dataframe tbody tr th:only-of-type {\n",
       "        vertical-align: middle;\n",
       "    }\n",
       "\n",
       "    .dataframe tbody tr th {\n",
       "        vertical-align: top;\n",
       "    }\n",
       "\n",
       "    .dataframe thead th {\n",
       "        text-align: right;\n",
       "    }\n",
       "</style>\n",
       "<table border=\"1\" class=\"dataframe\">\n",
       "  <thead>\n",
       "    <tr style=\"text-align: right;\">\n",
       "      <th></th>\n",
       "      <th>Id</th>\n",
       "      <th>MSSubClass</th>\n",
       "      <th>LotArea</th>\n",
       "      <th>OverallQual</th>\n",
       "      <th>OverallCond</th>\n",
       "      <th>YearBuilt</th>\n",
       "      <th>YearRemodAdd</th>\n",
       "      <th>BsmtFinSF1</th>\n",
       "      <th>BsmtFinSF2</th>\n",
       "      <th>BsmtUnfSF</th>\n",
       "      <th>...</th>\n",
       "      <th>GarageArea</th>\n",
       "      <th>WoodDeckSF</th>\n",
       "      <th>OpenPorchSF</th>\n",
       "      <th>EnclosedPorch</th>\n",
       "      <th>3SsnPorch</th>\n",
       "      <th>ScreenPorch</th>\n",
       "      <th>PoolArea</th>\n",
       "      <th>MiscVal</th>\n",
       "      <th>MoSold</th>\n",
       "      <th>YrSold</th>\n",
       "    </tr>\n",
       "  </thead>\n",
       "  <tbody>\n",
       "    <tr>\n",
       "      <th>0</th>\n",
       "      <td>1</td>\n",
       "      <td>60</td>\n",
       "      <td>8450</td>\n",
       "      <td>7</td>\n",
       "      <td>5</td>\n",
       "      <td>2003</td>\n",
       "      <td>2003</td>\n",
       "      <td>706</td>\n",
       "      <td>0</td>\n",
       "      <td>150</td>\n",
       "      <td>...</td>\n",
       "      <td>548</td>\n",
       "      <td>0</td>\n",
       "      <td>61</td>\n",
       "      <td>0</td>\n",
       "      <td>0</td>\n",
       "      <td>0</td>\n",
       "      <td>0</td>\n",
       "      <td>0</td>\n",
       "      <td>2</td>\n",
       "      <td>2008</td>\n",
       "    </tr>\n",
       "    <tr>\n",
       "      <th>1</th>\n",
       "      <td>2</td>\n",
       "      <td>20</td>\n",
       "      <td>9600</td>\n",
       "      <td>6</td>\n",
       "      <td>8</td>\n",
       "      <td>1976</td>\n",
       "      <td>1976</td>\n",
       "      <td>978</td>\n",
       "      <td>0</td>\n",
       "      <td>284</td>\n",
       "      <td>...</td>\n",
       "      <td>460</td>\n",
       "      <td>298</td>\n",
       "      <td>0</td>\n",
       "      <td>0</td>\n",
       "      <td>0</td>\n",
       "      <td>0</td>\n",
       "      <td>0</td>\n",
       "      <td>0</td>\n",
       "      <td>5</td>\n",
       "      <td>2007</td>\n",
       "    </tr>\n",
       "    <tr>\n",
       "      <th>2</th>\n",
       "      <td>3</td>\n",
       "      <td>60</td>\n",
       "      <td>11250</td>\n",
       "      <td>7</td>\n",
       "      <td>5</td>\n",
       "      <td>2001</td>\n",
       "      <td>2002</td>\n",
       "      <td>486</td>\n",
       "      <td>0</td>\n",
       "      <td>434</td>\n",
       "      <td>...</td>\n",
       "      <td>608</td>\n",
       "      <td>0</td>\n",
       "      <td>42</td>\n",
       "      <td>0</td>\n",
       "      <td>0</td>\n",
       "      <td>0</td>\n",
       "      <td>0</td>\n",
       "      <td>0</td>\n",
       "      <td>9</td>\n",
       "      <td>2008</td>\n",
       "    </tr>\n",
       "    <tr>\n",
       "      <th>3</th>\n",
       "      <td>4</td>\n",
       "      <td>70</td>\n",
       "      <td>9550</td>\n",
       "      <td>7</td>\n",
       "      <td>5</td>\n",
       "      <td>1915</td>\n",
       "      <td>1970</td>\n",
       "      <td>216</td>\n",
       "      <td>0</td>\n",
       "      <td>540</td>\n",
       "      <td>...</td>\n",
       "      <td>642</td>\n",
       "      <td>0</td>\n",
       "      <td>35</td>\n",
       "      <td>272</td>\n",
       "      <td>0</td>\n",
       "      <td>0</td>\n",
       "      <td>0</td>\n",
       "      <td>0</td>\n",
       "      <td>2</td>\n",
       "      <td>2006</td>\n",
       "    </tr>\n",
       "    <tr>\n",
       "      <th>4</th>\n",
       "      <td>5</td>\n",
       "      <td>60</td>\n",
       "      <td>14260</td>\n",
       "      <td>8</td>\n",
       "      <td>5</td>\n",
       "      <td>2000</td>\n",
       "      <td>2000</td>\n",
       "      <td>655</td>\n",
       "      <td>0</td>\n",
       "      <td>490</td>\n",
       "      <td>...</td>\n",
       "      <td>836</td>\n",
       "      <td>192</td>\n",
       "      <td>84</td>\n",
       "      <td>0</td>\n",
       "      <td>0</td>\n",
       "      <td>0</td>\n",
       "      <td>0</td>\n",
       "      <td>0</td>\n",
       "      <td>12</td>\n",
       "      <td>2008</td>\n",
       "    </tr>\n",
       "  </tbody>\n",
       "</table>\n",
       "<p>5 rows × 34 columns</p>\n",
       "</div>"
      ],
      "text/plain": [
       "   Id  MSSubClass  LotArea  OverallQual  OverallCond  YearBuilt  YearRemodAdd  \\\n",
       "0   1          60     8450            7            5       2003          2003   \n",
       "1   2          20     9600            6            8       1976          1976   \n",
       "2   3          60    11250            7            5       2001          2002   \n",
       "3   4          70     9550            7            5       1915          1970   \n",
       "4   5          60    14260            8            5       2000          2000   \n",
       "\n",
       "   BsmtFinSF1  BsmtFinSF2  BsmtUnfSF   ...    GarageArea  WoodDeckSF  \\\n",
       "0         706           0        150   ...           548           0   \n",
       "1         978           0        284   ...           460         298   \n",
       "2         486           0        434   ...           608           0   \n",
       "3         216           0        540   ...           642           0   \n",
       "4         655           0        490   ...           836         192   \n",
       "\n",
       "   OpenPorchSF  EnclosedPorch  3SsnPorch  ScreenPorch  PoolArea  MiscVal  \\\n",
       "0           61              0          0            0         0        0   \n",
       "1            0              0          0            0         0        0   \n",
       "2           42              0          0            0         0        0   \n",
       "3           35            272          0            0         0        0   \n",
       "4           84              0          0            0         0        0   \n",
       "\n",
       "   MoSold  YrSold  \n",
       "0       2    2008  \n",
       "1       5    2007  \n",
       "2       9    2008  \n",
       "3       2    2006  \n",
       "4      12    2008  \n",
       "\n",
       "[5 rows x 34 columns]"
      ]
     },
     "execution_count": 25,
     "metadata": {},
     "output_type": "execute_result"
    }
   ],
   "source": [
    "x2.head()"
   ]
  },
  {
   "cell_type": "code",
   "execution_count": 26,
   "metadata": {},
   "outputs": [],
   "source": [
    "from sklearn.feature_selection import f_regression"
   ]
  },
  {
   "cell_type": "code",
   "execution_count": 27,
   "metadata": {},
   "outputs": [
    {
     "data": {
      "text/plain": [
       "array([4.02693800e-001, 1.26647168e-003, 1.12313915e-024, 2.18567527e-313,\n",
       "       2.91235127e-003, 2.99022910e-103, 3.16494824e-096, 3.39410983e-053,\n",
       "       6.63998651e-001, 1.18297580e-016, 9.48422939e-152, 5.39471062e-147,\n",
       "       5.76433512e-036, 3.28207310e-001, 4.51803365e-223, 1.55034414e-018,\n",
       "       5.20153636e-001, 1.23647007e-121, 1.65047340e-028, 9.92749733e-011,\n",
       "       1.86042603e-007, 2.77228093e-108, 6.14148746e-080, 2.49864417e-169,\n",
       "       5.26503817e-158, 3.97221654e-037, 3.49337362e-035, 8.25577048e-007,\n",
       "       8.85817036e-002, 1.97214002e-005, 4.07348960e-004, 4.18486349e-001,\n",
       "       7.61275785e-002, 2.69413193e-001])"
      ]
     },
     "execution_count": 27,
     "metadata": {},
     "output_type": "execute_result"
    }
   ],
   "source": [
    "p_values=f_regression(x2,X)[1]\n",
    "p_values"
   ]
  },
  {
   "cell_type": "code",
   "execution_count": null,
   "metadata": {},
   "outputs": [],
   "source": []
  },
  {
   "cell_type": "code",
   "execution_count": null,
   "metadata": {},
   "outputs": [],
   "source": []
  },
  {
   "cell_type": "code",
   "execution_count": 28,
   "metadata": {},
   "outputs": [],
   "source": [
    "x2new=x2[[\"MSSubClass\",\"LotArea\",\"OverallQual\",\"OverallCond\",\"YearBuilt\",\"BsmtFinSF1\",\"GrLivArea\",\"BedroomAbvGr\",\"TotRmsAbvGrd\",\"GarageCars\"]]"
   ]
  },
  {
   "cell_type": "code",
   "execution_count": 29,
   "metadata": {
    "scrolled": true
   },
   "outputs": [
    {
     "data": {
      "text/html": [
       "<div>\n",
       "<style scoped>\n",
       "    .dataframe tbody tr th:only-of-type {\n",
       "        vertical-align: middle;\n",
       "    }\n",
       "\n",
       "    .dataframe tbody tr th {\n",
       "        vertical-align: top;\n",
       "    }\n",
       "\n",
       "    .dataframe thead th {\n",
       "        text-align: right;\n",
       "    }\n",
       "</style>\n",
       "<table border=\"1\" class=\"dataframe\">\n",
       "  <thead>\n",
       "    <tr style=\"text-align: right;\">\n",
       "      <th></th>\n",
       "      <th>MSSubClass</th>\n",
       "      <th>LotArea</th>\n",
       "      <th>OverallQual</th>\n",
       "      <th>OverallCond</th>\n",
       "      <th>YearBuilt</th>\n",
       "      <th>BsmtFinSF1</th>\n",
       "      <th>GrLivArea</th>\n",
       "      <th>BedroomAbvGr</th>\n",
       "      <th>TotRmsAbvGrd</th>\n",
       "      <th>GarageCars</th>\n",
       "    </tr>\n",
       "  </thead>\n",
       "  <tbody>\n",
       "    <tr>\n",
       "      <th>0</th>\n",
       "      <td>60</td>\n",
       "      <td>8450</td>\n",
       "      <td>7</td>\n",
       "      <td>5</td>\n",
       "      <td>2003</td>\n",
       "      <td>706</td>\n",
       "      <td>1710</td>\n",
       "      <td>3</td>\n",
       "      <td>8</td>\n",
       "      <td>2</td>\n",
       "    </tr>\n",
       "    <tr>\n",
       "      <th>1</th>\n",
       "      <td>20</td>\n",
       "      <td>9600</td>\n",
       "      <td>6</td>\n",
       "      <td>8</td>\n",
       "      <td>1976</td>\n",
       "      <td>978</td>\n",
       "      <td>1262</td>\n",
       "      <td>3</td>\n",
       "      <td>6</td>\n",
       "      <td>2</td>\n",
       "    </tr>\n",
       "    <tr>\n",
       "      <th>2</th>\n",
       "      <td>60</td>\n",
       "      <td>11250</td>\n",
       "      <td>7</td>\n",
       "      <td>5</td>\n",
       "      <td>2001</td>\n",
       "      <td>486</td>\n",
       "      <td>1786</td>\n",
       "      <td>3</td>\n",
       "      <td>6</td>\n",
       "      <td>2</td>\n",
       "    </tr>\n",
       "    <tr>\n",
       "      <th>3</th>\n",
       "      <td>70</td>\n",
       "      <td>9550</td>\n",
       "      <td>7</td>\n",
       "      <td>5</td>\n",
       "      <td>1915</td>\n",
       "      <td>216</td>\n",
       "      <td>1717</td>\n",
       "      <td>3</td>\n",
       "      <td>7</td>\n",
       "      <td>3</td>\n",
       "    </tr>\n",
       "    <tr>\n",
       "      <th>4</th>\n",
       "      <td>60</td>\n",
       "      <td>14260</td>\n",
       "      <td>8</td>\n",
       "      <td>5</td>\n",
       "      <td>2000</td>\n",
       "      <td>655</td>\n",
       "      <td>2198</td>\n",
       "      <td>4</td>\n",
       "      <td>9</td>\n",
       "      <td>3</td>\n",
       "    </tr>\n",
       "  </tbody>\n",
       "</table>\n",
       "</div>"
      ],
      "text/plain": [
       "   MSSubClass  LotArea  OverallQual  OverallCond  YearBuilt  BsmtFinSF1  \\\n",
       "0          60     8450            7            5       2003         706   \n",
       "1          20     9600            6            8       1976         978   \n",
       "2          60    11250            7            5       2001         486   \n",
       "3          70     9550            7            5       1915         216   \n",
       "4          60    14260            8            5       2000         655   \n",
       "\n",
       "   GrLivArea  BedroomAbvGr  TotRmsAbvGrd  GarageCars  \n",
       "0       1710             3             8           2  \n",
       "1       1262             3             6           2  \n",
       "2       1786             3             6           2  \n",
       "3       1717             3             7           3  \n",
       "4       2198             4             9           3  "
      ]
     },
     "execution_count": 29,
     "metadata": {},
     "output_type": "execute_result"
    }
   ],
   "source": [
    "x2new.head()"
   ]
  },
  {
   "cell_type": "code",
   "execution_count": 30,
   "metadata": {},
   "outputs": [
    {
     "data": {
      "text/plain": [
       "(1460, 10)"
      ]
     },
     "execution_count": 30,
     "metadata": {},
     "output_type": "execute_result"
    }
   ],
   "source": [
    "x2new.shape"
   ]
  },
  {
   "cell_type": "code",
   "execution_count": 31,
   "metadata": {},
   "outputs": [
    {
     "data": {
      "text/plain": [
       "(1460, 3)"
      ]
     },
     "execution_count": 31,
     "metadata": {},
     "output_type": "execute_result"
    }
   ],
   "source": [
    "x1.shape"
   ]
  },
  {
   "cell_type": "code",
   "execution_count": null,
   "metadata": {},
   "outputs": [],
   "source": []
  },
  {
   "cell_type": "code",
   "execution_count": 32,
   "metadata": {},
   "outputs": [],
   "source": [
    "new=pd.concat([x1,x2new], axis=1, ignore_index=False)"
   ]
  },
  {
   "cell_type": "code",
   "execution_count": 33,
   "metadata": {},
   "outputs": [
    {
     "data": {
      "text/html": [
       "<div>\n",
       "<style scoped>\n",
       "    .dataframe tbody tr th:only-of-type {\n",
       "        vertical-align: middle;\n",
       "    }\n",
       "\n",
       "    .dataframe tbody tr th {\n",
       "        vertical-align: top;\n",
       "    }\n",
       "\n",
       "    .dataframe thead th {\n",
       "        text-align: right;\n",
       "    }\n",
       "</style>\n",
       "<table border=\"1\" class=\"dataframe\">\n",
       "  <thead>\n",
       "    <tr style=\"text-align: right;\">\n",
       "      <th></th>\n",
       "      <th>LotFrontage</th>\n",
       "      <th>MasVnrArea</th>\n",
       "      <th>GarageYrBlt</th>\n",
       "      <th>MSSubClass</th>\n",
       "      <th>LotArea</th>\n",
       "      <th>OverallQual</th>\n",
       "      <th>OverallCond</th>\n",
       "      <th>YearBuilt</th>\n",
       "      <th>BsmtFinSF1</th>\n",
       "      <th>GrLivArea</th>\n",
       "      <th>BedroomAbvGr</th>\n",
       "      <th>TotRmsAbvGrd</th>\n",
       "      <th>GarageCars</th>\n",
       "    </tr>\n",
       "  </thead>\n",
       "  <tbody>\n",
       "    <tr>\n",
       "      <th>0</th>\n",
       "      <td>65</td>\n",
       "      <td>196</td>\n",
       "      <td>2003</td>\n",
       "      <td>60</td>\n",
       "      <td>8450</td>\n",
       "      <td>7</td>\n",
       "      <td>5</td>\n",
       "      <td>2003</td>\n",
       "      <td>706</td>\n",
       "      <td>1710</td>\n",
       "      <td>3</td>\n",
       "      <td>8</td>\n",
       "      <td>2</td>\n",
       "    </tr>\n",
       "    <tr>\n",
       "      <th>1</th>\n",
       "      <td>80</td>\n",
       "      <td>0</td>\n",
       "      <td>1976</td>\n",
       "      <td>20</td>\n",
       "      <td>9600</td>\n",
       "      <td>6</td>\n",
       "      <td>8</td>\n",
       "      <td>1976</td>\n",
       "      <td>978</td>\n",
       "      <td>1262</td>\n",
       "      <td>3</td>\n",
       "      <td>6</td>\n",
       "      <td>2</td>\n",
       "    </tr>\n",
       "    <tr>\n",
       "      <th>2</th>\n",
       "      <td>68</td>\n",
       "      <td>162</td>\n",
       "      <td>2001</td>\n",
       "      <td>60</td>\n",
       "      <td>11250</td>\n",
       "      <td>7</td>\n",
       "      <td>5</td>\n",
       "      <td>2001</td>\n",
       "      <td>486</td>\n",
       "      <td>1786</td>\n",
       "      <td>3</td>\n",
       "      <td>6</td>\n",
       "      <td>2</td>\n",
       "    </tr>\n",
       "    <tr>\n",
       "      <th>3</th>\n",
       "      <td>60</td>\n",
       "      <td>0</td>\n",
       "      <td>1998</td>\n",
       "      <td>70</td>\n",
       "      <td>9550</td>\n",
       "      <td>7</td>\n",
       "      <td>5</td>\n",
       "      <td>1915</td>\n",
       "      <td>216</td>\n",
       "      <td>1717</td>\n",
       "      <td>3</td>\n",
       "      <td>7</td>\n",
       "      <td>3</td>\n",
       "    </tr>\n",
       "    <tr>\n",
       "      <th>4</th>\n",
       "      <td>84</td>\n",
       "      <td>350</td>\n",
       "      <td>2000</td>\n",
       "      <td>60</td>\n",
       "      <td>14260</td>\n",
       "      <td>8</td>\n",
       "      <td>5</td>\n",
       "      <td>2000</td>\n",
       "      <td>655</td>\n",
       "      <td>2198</td>\n",
       "      <td>4</td>\n",
       "      <td>9</td>\n",
       "      <td>3</td>\n",
       "    </tr>\n",
       "  </tbody>\n",
       "</table>\n",
       "</div>"
      ],
      "text/plain": [
       "   LotFrontage  MasVnrArea  GarageYrBlt  MSSubClass  LotArea  OverallQual  \\\n",
       "0           65         196         2003          60     8450            7   \n",
       "1           80           0         1976          20     9600            6   \n",
       "2           68         162         2001          60    11250            7   \n",
       "3           60           0         1998          70     9550            7   \n",
       "4           84         350         2000          60    14260            8   \n",
       "\n",
       "   OverallCond  YearBuilt  BsmtFinSF1  GrLivArea  BedroomAbvGr  TotRmsAbvGrd  \\\n",
       "0            5       2003         706       1710             3             8   \n",
       "1            8       1976         978       1262             3             6   \n",
       "2            5       2001         486       1786             3             6   \n",
       "3            5       1915         216       1717             3             7   \n",
       "4            5       2000         655       2198             4             9   \n",
       "\n",
       "   GarageCars  \n",
       "0           2  \n",
       "1           2  \n",
       "2           2  \n",
       "3           3  \n",
       "4           3  "
      ]
     },
     "execution_count": 33,
     "metadata": {},
     "output_type": "execute_result"
    }
   ],
   "source": [
    "new.head()"
   ]
  },
  {
   "cell_type": "code",
   "execution_count": 34,
   "metadata": {},
   "outputs": [
    {
     "data": {
      "text/plain": [
       "(1460, 13)"
      ]
     },
     "execution_count": 34,
     "metadata": {},
     "output_type": "execute_result"
    }
   ],
   "source": [
    "new.shape"
   ]
  },
  {
   "cell_type": "code",
   "execution_count": 35,
   "metadata": {},
   "outputs": [],
   "source": [
    "xtrain,xtest,ytrain,ytest=train_test_split(new,X,test_size=0.2)"
   ]
  },
  {
   "cell_type": "code",
   "execution_count": 37,
   "metadata": {},
   "outputs": [
    {
     "name": "stderr",
     "output_type": "stream",
     "text": [
      "E:\\New folder (2)\\lib\\site-packages\\sklearn\\linear_model\\logistic.py:433: FutureWarning: Default solver will be changed to 'lbfgs' in 0.22. Specify a solver to silence this warning.\n",
      "  FutureWarning)\n",
      "E:\\New folder (2)\\lib\\site-packages\\sklearn\\linear_model\\logistic.py:460: FutureWarning: Default multi_class will be changed to 'auto' in 0.22. Specify the multi_class option to silence this warning.\n",
      "  \"this warning.\", FutureWarning)\n",
      "E:\\New folder (2)\\lib\\site-packages\\sklearn\\svm\\base.py:922: ConvergenceWarning: Liblinear failed to converge, increase the number of iterations.\n",
      "  \"the number of iterations.\", ConvergenceWarning)\n"
     ]
    },
    {
     "data": {
      "text/plain": [
       "LogisticRegression(C=1.0, class_weight=None, dual=False, fit_intercept=True,\n",
       "          intercept_scaling=1, max_iter=100, multi_class='warn',\n",
       "          n_jobs=None, penalty='l2', random_state=None, solver='warn',\n",
       "          tol=0.0001, verbose=0, warm_start=False)"
      ]
     },
     "execution_count": 37,
     "metadata": {},
     "output_type": "execute_result"
    }
   ],
   "source": [
    "reg=LogisticRegression()\n",
    "reg.fit(xtrain,ytrain)"
   ]
  },
  {
   "cell_type": "code",
   "execution_count": null,
   "metadata": {},
   "outputs": [],
   "source": []
  },
  {
   "cell_type": "code",
   "execution_count": 38,
   "metadata": {},
   "outputs": [
    {
     "data": {
      "text/html": [
       "<div>\n",
       "<style scoped>\n",
       "    .dataframe tbody tr th:only-of-type {\n",
       "        vertical-align: middle;\n",
       "    }\n",
       "\n",
       "    .dataframe tbody tr th {\n",
       "        vertical-align: top;\n",
       "    }\n",
       "\n",
       "    .dataframe thead th {\n",
       "        text-align: right;\n",
       "    }\n",
       "</style>\n",
       "<table border=\"1\" class=\"dataframe\">\n",
       "  <thead>\n",
       "    <tr style=\"text-align: right;\">\n",
       "      <th></th>\n",
       "      <th>LotFrontage</th>\n",
       "      <th>MasVnrArea</th>\n",
       "      <th>GarageYrBlt</th>\n",
       "      <th>MSSubClass</th>\n",
       "      <th>LotArea</th>\n",
       "      <th>OverallQual</th>\n",
       "      <th>OverallCond</th>\n",
       "      <th>YearBuilt</th>\n",
       "      <th>BsmtFinSF1</th>\n",
       "      <th>GrLivArea</th>\n",
       "      <th>BedroomAbvGr</th>\n",
       "      <th>TotRmsAbvGrd</th>\n",
       "      <th>GarageCars</th>\n",
       "    </tr>\n",
       "  </thead>\n",
       "  <tbody>\n",
       "    <tr>\n",
       "      <th>867</th>\n",
       "      <td>85</td>\n",
       "      <td>0</td>\n",
       "      <td>1961</td>\n",
       "      <td>20</td>\n",
       "      <td>6970</td>\n",
       "      <td>4</td>\n",
       "      <td>5</td>\n",
       "      <td>1961</td>\n",
       "      <td>932</td>\n",
       "      <td>1120</td>\n",
       "      <td>3</td>\n",
       "      <td>5</td>\n",
       "      <td>2</td>\n",
       "    </tr>\n",
       "    <tr>\n",
       "      <th>1028</th>\n",
       "      <td>79</td>\n",
       "      <td>0</td>\n",
       "      <td>1941</td>\n",
       "      <td>50</td>\n",
       "      <td>9492</td>\n",
       "      <td>5</td>\n",
       "      <td>5</td>\n",
       "      <td>1941</td>\n",
       "      <td>368</td>\n",
       "      <td>1376</td>\n",
       "      <td>3</td>\n",
       "      <td>6</td>\n",
       "      <td>1</td>\n",
       "    </tr>\n",
       "    <tr>\n",
       "      <th>1089</th>\n",
       "      <td>37</td>\n",
       "      <td>0</td>\n",
       "      <td>2005</td>\n",
       "      <td>120</td>\n",
       "      <td>3316</td>\n",
       "      <td>8</td>\n",
       "      <td>5</td>\n",
       "      <td>2005</td>\n",
       "      <td>1039</td>\n",
       "      <td>1247</td>\n",
       "      <td>1</td>\n",
       "      <td>4</td>\n",
       "      <td>2</td>\n",
       "    </tr>\n",
       "    <tr>\n",
       "      <th>753</th>\n",
       "      <td>80</td>\n",
       "      <td>178</td>\n",
       "      <td>2005</td>\n",
       "      <td>60</td>\n",
       "      <td>10240</td>\n",
       "      <td>8</td>\n",
       "      <td>5</td>\n",
       "      <td>2005</td>\n",
       "      <td>0</td>\n",
       "      <td>2098</td>\n",
       "      <td>3</td>\n",
       "      <td>8</td>\n",
       "      <td>3</td>\n",
       "    </tr>\n",
       "    <tr>\n",
       "      <th>1173</th>\n",
       "      <td>138</td>\n",
       "      <td>0</td>\n",
       "      <td>1978</td>\n",
       "      <td>50</td>\n",
       "      <td>18030</td>\n",
       "      <td>5</td>\n",
       "      <td>6</td>\n",
       "      <td>1946</td>\n",
       "      <td>152</td>\n",
       "      <td>3086</td>\n",
       "      <td>3</td>\n",
       "      <td>12</td>\n",
       "      <td>0</td>\n",
       "    </tr>\n",
       "  </tbody>\n",
       "</table>\n",
       "</div>"
      ],
      "text/plain": [
       "      LotFrontage  MasVnrArea  GarageYrBlt  MSSubClass  LotArea  OverallQual  \\\n",
       "867            85           0         1961          20     6970            4   \n",
       "1028           79           0         1941          50     9492            5   \n",
       "1089           37           0         2005         120     3316            8   \n",
       "753            80         178         2005          60    10240            8   \n",
       "1173          138           0         1978          50    18030            5   \n",
       "\n",
       "      OverallCond  YearBuilt  BsmtFinSF1  GrLivArea  BedroomAbvGr  \\\n",
       "867             5       1961         932       1120             3   \n",
       "1028            5       1941         368       1376             3   \n",
       "1089            5       2005        1039       1247             1   \n",
       "753             5       2005           0       2098             3   \n",
       "1173            6       1946         152       3086             3   \n",
       "\n",
       "      TotRmsAbvGrd  GarageCars  \n",
       "867              5           2  \n",
       "1028             6           1  \n",
       "1089             4           2  \n",
       "753              8           3  \n",
       "1173            12           0  "
      ]
     },
     "execution_count": 38,
     "metadata": {},
     "output_type": "execute_result"
    }
   ],
   "source": [
    "xtrain.head()"
   ]
  },
  {
   "cell_type": "code",
   "execution_count": 39,
   "metadata": {},
   "outputs": [
    {
     "data": {
      "text/html": [
       "<div>\n",
       "<style scoped>\n",
       "    .dataframe tbody tr th:only-of-type {\n",
       "        vertical-align: middle;\n",
       "    }\n",
       "\n",
       "    .dataframe tbody tr th {\n",
       "        vertical-align: top;\n",
       "    }\n",
       "\n",
       "    .dataframe thead th {\n",
       "        text-align: right;\n",
       "    }\n",
       "</style>\n",
       "<table border=\"1\" class=\"dataframe\">\n",
       "  <thead>\n",
       "    <tr style=\"text-align: right;\">\n",
       "      <th></th>\n",
       "      <th>LotFrontage</th>\n",
       "      <th>MasVnrArea</th>\n",
       "      <th>GarageYrBlt</th>\n",
       "      <th>MSSubClass</th>\n",
       "      <th>LotArea</th>\n",
       "      <th>OverallQual</th>\n",
       "      <th>OverallCond</th>\n",
       "      <th>YearBuilt</th>\n",
       "      <th>BsmtFinSF1</th>\n",
       "      <th>GrLivArea</th>\n",
       "      <th>BedroomAbvGr</th>\n",
       "      <th>TotRmsAbvGrd</th>\n",
       "      <th>GarageCars</th>\n",
       "    </tr>\n",
       "  </thead>\n",
       "  <tbody>\n",
       "    <tr>\n",
       "      <th>1309</th>\n",
       "      <td>70</td>\n",
       "      <td>88</td>\n",
       "      <td>1991</td>\n",
       "      <td>20</td>\n",
       "      <td>7153</td>\n",
       "      <td>6</td>\n",
       "      <td>5</td>\n",
       "      <td>1991</td>\n",
       "      <td>1200</td>\n",
       "      <td>1294</td>\n",
       "      <td>3</td>\n",
       "      <td>6</td>\n",
       "      <td>2</td>\n",
       "    </tr>\n",
       "    <tr>\n",
       "      <th>1337</th>\n",
       "      <td>153</td>\n",
       "      <td>0</td>\n",
       "      <td>1978</td>\n",
       "      <td>30</td>\n",
       "      <td>4118</td>\n",
       "      <td>4</td>\n",
       "      <td>4</td>\n",
       "      <td>1941</td>\n",
       "      <td>0</td>\n",
       "      <td>693</td>\n",
       "      <td>2</td>\n",
       "      <td>4</td>\n",
       "      <td>0</td>\n",
       "    </tr>\n",
       "    <tr>\n",
       "      <th>1316</th>\n",
       "      <td>61</td>\n",
       "      <td>270</td>\n",
       "      <td>2008</td>\n",
       "      <td>20</td>\n",
       "      <td>10226</td>\n",
       "      <td>8</td>\n",
       "      <td>5</td>\n",
       "      <td>2008</td>\n",
       "      <td>0</td>\n",
       "      <td>1630</td>\n",
       "      <td>3</td>\n",
       "      <td>8</td>\n",
       "      <td>3</td>\n",
       "    </tr>\n",
       "    <tr>\n",
       "      <th>1302</th>\n",
       "      <td>92</td>\n",
       "      <td>391</td>\n",
       "      <td>1994</td>\n",
       "      <td>60</td>\n",
       "      <td>10120</td>\n",
       "      <td>8</td>\n",
       "      <td>5</td>\n",
       "      <td>1994</td>\n",
       "      <td>740</td>\n",
       "      <td>2526</td>\n",
       "      <td>4</td>\n",
       "      <td>8</td>\n",
       "      <td>3</td>\n",
       "    </tr>\n",
       "    <tr>\n",
       "      <th>553</th>\n",
       "      <td>67</td>\n",
       "      <td>0</td>\n",
       "      <td>2002</td>\n",
       "      <td>20</td>\n",
       "      <td>8777</td>\n",
       "      <td>4</td>\n",
       "      <td>5</td>\n",
       "      <td>1949</td>\n",
       "      <td>0</td>\n",
       "      <td>1126</td>\n",
       "      <td>2</td>\n",
       "      <td>5</td>\n",
       "      <td>2</td>\n",
       "    </tr>\n",
       "  </tbody>\n",
       "</table>\n",
       "</div>"
      ],
      "text/plain": [
       "      LotFrontage  MasVnrArea  GarageYrBlt  MSSubClass  LotArea  OverallQual  \\\n",
       "1309           70          88         1991          20     7153            6   \n",
       "1337          153           0         1978          30     4118            4   \n",
       "1316           61         270         2008          20    10226            8   \n",
       "1302           92         391         1994          60    10120            8   \n",
       "553            67           0         2002          20     8777            4   \n",
       "\n",
       "      OverallCond  YearBuilt  BsmtFinSF1  GrLivArea  BedroomAbvGr  \\\n",
       "1309            5       1991        1200       1294             3   \n",
       "1337            4       1941           0        693             2   \n",
       "1316            5       2008           0       1630             3   \n",
       "1302            5       1994         740       2526             4   \n",
       "553             5       1949           0       1126             2   \n",
       "\n",
       "      TotRmsAbvGrd  GarageCars  \n",
       "1309             6           2  \n",
       "1337             4           0  \n",
       "1316             8           3  \n",
       "1302             8           3  \n",
       "553              5           2  "
      ]
     },
     "execution_count": 39,
     "metadata": {},
     "output_type": "execute_result"
    }
   ],
   "source": [
    "xtest.head()"
   ]
  },
  {
   "cell_type": "code",
   "execution_count": 40,
   "metadata": {},
   "outputs": [
    {
     "data": {
      "text/plain": [
       "(292, 13)"
      ]
     },
     "execution_count": 40,
     "metadata": {},
     "output_type": "execute_result"
    }
   ],
   "source": [
    "xtest.shape"
   ]
  },
  {
   "cell_type": "code",
   "execution_count": 41,
   "metadata": {},
   "outputs": [],
   "source": [
    "y_pred=reg.predict(xtest)"
   ]
  },
  {
   "cell_type": "code",
   "execution_count": 42,
   "metadata": {},
   "outputs": [
    {
     "data": {
      "text/plain": [
       "array([395192, 178740, 232000, 230000, 134800, 178000, 178000, 244400,\n",
       "       167000, 220000, 197000, 117000,  84500, 178000, 110000, 123000,\n",
       "       345000, 180000, 195400, 142500, 135000, 180000, 135900, 178000,\n",
       "       180000, 144000, 315500, 112000, 142500, 122000, 167000, 169000,\n",
       "       191000, 140000, 190000, 144152, 180000, 155000, 117000, 145000,\n",
       "       108000, 198900, 122000, 109900, 172500, 190000, 248328, 135960,\n",
       "       181000, 177000, 315000, 190000, 187500, 181134, 143000, 182000,\n",
       "       161500, 178000, 266000, 130000, 218000, 215000, 147400, 245000,\n",
       "       150000, 132250, 144000, 142500, 144000,  68400, 108000, 176000,\n",
       "       131500, 415298, 194000, 190000, 184000, 145000, 181134, 192500,\n",
       "       230000, 135960, 129000, 151000, 109900,  85000, 157500, 118000,\n",
       "       150000, 116500, 155900, 217000, 250000, 176485, 144000, 135000,\n",
       "        93000, 145000, 178000, 174000, 135000, 142000, 149300, 145000,\n",
       "       187000, 141000, 190000, 180000, 104000, 220000, 192000, 145000,\n",
       "       182000, 145000, 123000, 129000, 155835, 130000, 316600, 195400,\n",
       "       106000, 144000,  82000, 125500, 219210, 108000, 147000, 190000,\n",
       "       145000, 179000,  91500, 100000, 145000, 181000, 155000, 190000,\n",
       "       178000, 135000, 217000, 135000, 139000, 374000, 178000, 142500,\n",
       "       178000, 142000, 100000, 170000, 118000, 192000, 135000,  79000,\n",
       "       189000, 150000, 221000, 240000, 281000, 147000, 178000, 215000,\n",
       "       179600, 178000, 142000, 277000, 190000, 197000, 115000, 142000,\n",
       "       287090, 110000, 130500, 181000, 151000, 318061, 192000, 135000,\n",
       "       155000, 122000, 130000, 141000, 266000, 156000, 223000, 192500,\n",
       "       239686,  78000,  76000, 582933, 190000,  90000, 135000, 190000,\n",
       "       183000, 248328, 144000, 119900, 181000, 110000, 145000, 106000,\n",
       "       122000,  52000, 135000, 244400, 180000, 176500, 336000, 148500,\n",
       "       181134, 110000, 149300, 179400, 110000, 145000, 176000, 185000,\n",
       "       116000, 143000, 115000, 200000, 315000, 178740, 174000, 181000,\n",
       "       155000, 108000, 116000, 190000, 176485, 129000, 145000,  90000,\n",
       "       133900, 139000, 135000, 179540,  84500, 135750, 119900, 115000,\n",
       "       281213, 135000,  52000, 184900, 171900, 136000, 178000, 130500,\n",
       "       134432, 180000, 178000, 190000, 315000, 345000, 217000, 110000,\n",
       "       169000, 130000, 178000, 135000, 178000, 155000, 285000, 318061,\n",
       "        85400, 119000, 110000, 239686, 132000, 102776, 169000, 246578,\n",
       "       135000, 582933, 220000, 124000, 244600, 115000, 142500, 178000,\n",
       "       115000, 132000,  79500, 145000, 178000, 125000, 130000, 143500,\n",
       "       142500, 181000, 220000, 178000], dtype=int64)"
      ]
     },
     "execution_count": 42,
     "metadata": {},
     "output_type": "execute_result"
    }
   ],
   "source": [
    "y_pred"
   ]
  },
  {
   "cell_type": "code",
   "execution_count": 43,
   "metadata": {},
   "outputs": [
    {
     "data": {
      "text/plain": [
       "(292,)"
      ]
     },
     "execution_count": 43,
     "metadata": {},
     "output_type": "execute_result"
    }
   ],
   "source": [
    "y_pred.shape"
   ]
  },
  {
   "cell_type": "code",
   "execution_count": 44,
   "metadata": {},
   "outputs": [
    {
     "data": {
      "text/plain": [
       "0.3732876712328767"
      ]
     },
     "execution_count": 44,
     "metadata": {},
     "output_type": "execute_result"
    }
   ],
   "source": [
    "reg.score(xtrain,ytrain)"
   ]
  },
  {
   "cell_type": "code",
   "execution_count": 45,
   "metadata": {},
   "outputs": [
    {
     "data": {
      "text/plain": [
       "0.010273972602739725"
      ]
     },
     "execution_count": 45,
     "metadata": {},
     "output_type": "execute_result"
    }
   ],
   "source": [
    "reg.score(xtest,ytest)"
   ]
  },
  {
   "cell_type": "code",
   "execution_count": 46,
   "metadata": {},
   "outputs": [
    {
     "data": {
      "text/html": [
       "<div>\n",
       "<style scoped>\n",
       "    .dataframe tbody tr th:only-of-type {\n",
       "        vertical-align: middle;\n",
       "    }\n",
       "\n",
       "    .dataframe tbody tr th {\n",
       "        vertical-align: top;\n",
       "    }\n",
       "\n",
       "    .dataframe thead th {\n",
       "        text-align: right;\n",
       "    }\n",
       "</style>\n",
       "<table border=\"1\" class=\"dataframe\">\n",
       "  <thead>\n",
       "    <tr style=\"text-align: right;\">\n",
       "      <th></th>\n",
       "      <th>Id</th>\n",
       "      <th>MSSubClass</th>\n",
       "      <th>MSZoning</th>\n",
       "      <th>LotFrontage</th>\n",
       "      <th>LotArea</th>\n",
       "      <th>Street</th>\n",
       "      <th>Alley</th>\n",
       "      <th>LotShape</th>\n",
       "      <th>LandContour</th>\n",
       "      <th>Utilities</th>\n",
       "      <th>...</th>\n",
       "      <th>ScreenPorch</th>\n",
       "      <th>PoolArea</th>\n",
       "      <th>PoolQC</th>\n",
       "      <th>Fence</th>\n",
       "      <th>MiscFeature</th>\n",
       "      <th>MiscVal</th>\n",
       "      <th>MoSold</th>\n",
       "      <th>YrSold</th>\n",
       "      <th>SaleType</th>\n",
       "      <th>SaleCondition</th>\n",
       "    </tr>\n",
       "  </thead>\n",
       "  <tbody>\n",
       "    <tr>\n",
       "      <th>0</th>\n",
       "      <td>1461</td>\n",
       "      <td>20</td>\n",
       "      <td>RH</td>\n",
       "      <td>80.0</td>\n",
       "      <td>11622</td>\n",
       "      <td>Pave</td>\n",
       "      <td>NaN</td>\n",
       "      <td>Reg</td>\n",
       "      <td>Lvl</td>\n",
       "      <td>AllPub</td>\n",
       "      <td>...</td>\n",
       "      <td>120</td>\n",
       "      <td>0</td>\n",
       "      <td>NaN</td>\n",
       "      <td>MnPrv</td>\n",
       "      <td>NaN</td>\n",
       "      <td>0</td>\n",
       "      <td>6</td>\n",
       "      <td>2010</td>\n",
       "      <td>WD</td>\n",
       "      <td>Normal</td>\n",
       "    </tr>\n",
       "    <tr>\n",
       "      <th>1</th>\n",
       "      <td>1462</td>\n",
       "      <td>20</td>\n",
       "      <td>RL</td>\n",
       "      <td>81.0</td>\n",
       "      <td>14267</td>\n",
       "      <td>Pave</td>\n",
       "      <td>NaN</td>\n",
       "      <td>IR1</td>\n",
       "      <td>Lvl</td>\n",
       "      <td>AllPub</td>\n",
       "      <td>...</td>\n",
       "      <td>0</td>\n",
       "      <td>0</td>\n",
       "      <td>NaN</td>\n",
       "      <td>NaN</td>\n",
       "      <td>Gar2</td>\n",
       "      <td>12500</td>\n",
       "      <td>6</td>\n",
       "      <td>2010</td>\n",
       "      <td>WD</td>\n",
       "      <td>Normal</td>\n",
       "    </tr>\n",
       "    <tr>\n",
       "      <th>2</th>\n",
       "      <td>1463</td>\n",
       "      <td>60</td>\n",
       "      <td>RL</td>\n",
       "      <td>74.0</td>\n",
       "      <td>13830</td>\n",
       "      <td>Pave</td>\n",
       "      <td>NaN</td>\n",
       "      <td>IR1</td>\n",
       "      <td>Lvl</td>\n",
       "      <td>AllPub</td>\n",
       "      <td>...</td>\n",
       "      <td>0</td>\n",
       "      <td>0</td>\n",
       "      <td>NaN</td>\n",
       "      <td>MnPrv</td>\n",
       "      <td>NaN</td>\n",
       "      <td>0</td>\n",
       "      <td>3</td>\n",
       "      <td>2010</td>\n",
       "      <td>WD</td>\n",
       "      <td>Normal</td>\n",
       "    </tr>\n",
       "    <tr>\n",
       "      <th>3</th>\n",
       "      <td>1464</td>\n",
       "      <td>60</td>\n",
       "      <td>RL</td>\n",
       "      <td>78.0</td>\n",
       "      <td>9978</td>\n",
       "      <td>Pave</td>\n",
       "      <td>NaN</td>\n",
       "      <td>IR1</td>\n",
       "      <td>Lvl</td>\n",
       "      <td>AllPub</td>\n",
       "      <td>...</td>\n",
       "      <td>0</td>\n",
       "      <td>0</td>\n",
       "      <td>NaN</td>\n",
       "      <td>NaN</td>\n",
       "      <td>NaN</td>\n",
       "      <td>0</td>\n",
       "      <td>6</td>\n",
       "      <td>2010</td>\n",
       "      <td>WD</td>\n",
       "      <td>Normal</td>\n",
       "    </tr>\n",
       "    <tr>\n",
       "      <th>4</th>\n",
       "      <td>1465</td>\n",
       "      <td>120</td>\n",
       "      <td>RL</td>\n",
       "      <td>43.0</td>\n",
       "      <td>5005</td>\n",
       "      <td>Pave</td>\n",
       "      <td>NaN</td>\n",
       "      <td>IR1</td>\n",
       "      <td>HLS</td>\n",
       "      <td>AllPub</td>\n",
       "      <td>...</td>\n",
       "      <td>144</td>\n",
       "      <td>0</td>\n",
       "      <td>NaN</td>\n",
       "      <td>NaN</td>\n",
       "      <td>NaN</td>\n",
       "      <td>0</td>\n",
       "      <td>1</td>\n",
       "      <td>2010</td>\n",
       "      <td>WD</td>\n",
       "      <td>Normal</td>\n",
       "    </tr>\n",
       "  </tbody>\n",
       "</table>\n",
       "<p>5 rows × 80 columns</p>\n",
       "</div>"
      ],
      "text/plain": [
       "     Id  MSSubClass MSZoning  LotFrontage  LotArea Street Alley LotShape  \\\n",
       "0  1461          20       RH         80.0    11622   Pave   NaN      Reg   \n",
       "1  1462          20       RL         81.0    14267   Pave   NaN      IR1   \n",
       "2  1463          60       RL         74.0    13830   Pave   NaN      IR1   \n",
       "3  1464          60       RL         78.0     9978   Pave   NaN      IR1   \n",
       "4  1465         120       RL         43.0     5005   Pave   NaN      IR1   \n",
       "\n",
       "  LandContour Utilities      ...       ScreenPorch PoolArea PoolQC  Fence  \\\n",
       "0         Lvl    AllPub      ...               120        0    NaN  MnPrv   \n",
       "1         Lvl    AllPub      ...                 0        0    NaN    NaN   \n",
       "2         Lvl    AllPub      ...                 0        0    NaN  MnPrv   \n",
       "3         Lvl    AllPub      ...                 0        0    NaN    NaN   \n",
       "4         HLS    AllPub      ...               144        0    NaN    NaN   \n",
       "\n",
       "  MiscFeature MiscVal MoSold  YrSold  SaleType  SaleCondition  \n",
       "0         NaN       0      6    2010        WD         Normal  \n",
       "1        Gar2   12500      6    2010        WD         Normal  \n",
       "2         NaN       0      3    2010        WD         Normal  \n",
       "3         NaN       0      6    2010        WD         Normal  \n",
       "4         NaN       0      1    2010        WD         Normal  \n",
       "\n",
       "[5 rows x 80 columns]"
      ]
     },
     "execution_count": 46,
     "metadata": {},
     "output_type": "execute_result"
    }
   ],
   "source": [
    "test=pd.read_csv(\"testS.csv\")\n",
    "test.head()"
   ]
  },
  {
   "cell_type": "code",
   "execution_count": 47,
   "metadata": {},
   "outputs": [],
   "source": [
    "t1=test.loc[:,test.dtypes==np.float64]\n"
   ]
  },
  {
   "cell_type": "code",
   "execution_count": 48,
   "metadata": {},
   "outputs": [
    {
     "data": {
      "text/html": [
       "<div>\n",
       "<style scoped>\n",
       "    .dataframe tbody tr th:only-of-type {\n",
       "        vertical-align: middle;\n",
       "    }\n",
       "\n",
       "    .dataframe tbody tr th {\n",
       "        vertical-align: top;\n",
       "    }\n",
       "\n",
       "    .dataframe thead th {\n",
       "        text-align: right;\n",
       "    }\n",
       "</style>\n",
       "<table border=\"1\" class=\"dataframe\">\n",
       "  <thead>\n",
       "    <tr style=\"text-align: right;\">\n",
       "      <th></th>\n",
       "      <th>LotFrontage</th>\n",
       "      <th>MasVnrArea</th>\n",
       "      <th>BsmtFinSF1</th>\n",
       "      <th>BsmtFinSF2</th>\n",
       "      <th>BsmtUnfSF</th>\n",
       "      <th>TotalBsmtSF</th>\n",
       "      <th>BsmtFullBath</th>\n",
       "      <th>BsmtHalfBath</th>\n",
       "      <th>GarageYrBlt</th>\n",
       "      <th>GarageCars</th>\n",
       "      <th>GarageArea</th>\n",
       "    </tr>\n",
       "  </thead>\n",
       "  <tbody>\n",
       "    <tr>\n",
       "      <th>0</th>\n",
       "      <td>80.0</td>\n",
       "      <td>0.0</td>\n",
       "      <td>468.0</td>\n",
       "      <td>144.0</td>\n",
       "      <td>270.0</td>\n",
       "      <td>882.0</td>\n",
       "      <td>0.0</td>\n",
       "      <td>0.0</td>\n",
       "      <td>1961.0</td>\n",
       "      <td>1.0</td>\n",
       "      <td>730.0</td>\n",
       "    </tr>\n",
       "    <tr>\n",
       "      <th>1</th>\n",
       "      <td>81.0</td>\n",
       "      <td>108.0</td>\n",
       "      <td>923.0</td>\n",
       "      <td>0.0</td>\n",
       "      <td>406.0</td>\n",
       "      <td>1329.0</td>\n",
       "      <td>0.0</td>\n",
       "      <td>0.0</td>\n",
       "      <td>1958.0</td>\n",
       "      <td>1.0</td>\n",
       "      <td>312.0</td>\n",
       "    </tr>\n",
       "    <tr>\n",
       "      <th>2</th>\n",
       "      <td>74.0</td>\n",
       "      <td>0.0</td>\n",
       "      <td>791.0</td>\n",
       "      <td>0.0</td>\n",
       "      <td>137.0</td>\n",
       "      <td>928.0</td>\n",
       "      <td>0.0</td>\n",
       "      <td>0.0</td>\n",
       "      <td>1997.0</td>\n",
       "      <td>2.0</td>\n",
       "      <td>482.0</td>\n",
       "    </tr>\n",
       "    <tr>\n",
       "      <th>3</th>\n",
       "      <td>78.0</td>\n",
       "      <td>20.0</td>\n",
       "      <td>602.0</td>\n",
       "      <td>0.0</td>\n",
       "      <td>324.0</td>\n",
       "      <td>926.0</td>\n",
       "      <td>0.0</td>\n",
       "      <td>0.0</td>\n",
       "      <td>1998.0</td>\n",
       "      <td>2.0</td>\n",
       "      <td>470.0</td>\n",
       "    </tr>\n",
       "    <tr>\n",
       "      <th>4</th>\n",
       "      <td>43.0</td>\n",
       "      <td>0.0</td>\n",
       "      <td>263.0</td>\n",
       "      <td>0.0</td>\n",
       "      <td>1017.0</td>\n",
       "      <td>1280.0</td>\n",
       "      <td>0.0</td>\n",
       "      <td>0.0</td>\n",
       "      <td>1992.0</td>\n",
       "      <td>2.0</td>\n",
       "      <td>506.0</td>\n",
       "    </tr>\n",
       "  </tbody>\n",
       "</table>\n",
       "</div>"
      ],
      "text/plain": [
       "   LotFrontage  MasVnrArea  BsmtFinSF1  BsmtFinSF2  BsmtUnfSF  TotalBsmtSF  \\\n",
       "0         80.0         0.0       468.0       144.0      270.0        882.0   \n",
       "1         81.0       108.0       923.0         0.0      406.0       1329.0   \n",
       "2         74.0         0.0       791.0         0.0      137.0        928.0   \n",
       "3         78.0        20.0       602.0         0.0      324.0        926.0   \n",
       "4         43.0         0.0       263.0         0.0     1017.0       1280.0   \n",
       "\n",
       "   BsmtFullBath  BsmtHalfBath  GarageYrBlt  GarageCars  GarageArea  \n",
       "0           0.0           0.0       1961.0         1.0       730.0  \n",
       "1           0.0           0.0       1958.0         1.0       312.0  \n",
       "2           0.0           0.0       1997.0         2.0       482.0  \n",
       "3           0.0           0.0       1998.0         2.0       470.0  \n",
       "4           0.0           0.0       1992.0         2.0       506.0  "
      ]
     },
     "execution_count": 48,
     "metadata": {},
     "output_type": "execute_result"
    }
   ],
   "source": [
    "t1.head()\n"
   ]
  },
  {
   "cell_type": "code",
   "execution_count": 49,
   "metadata": {},
   "outputs": [
    {
     "data": {
      "text/plain": [
       "LotFrontage     227\n",
       "MasVnrArea       15\n",
       "BsmtFinSF1        1\n",
       "BsmtFinSF2        1\n",
       "BsmtUnfSF         1\n",
       "TotalBsmtSF       1\n",
       "BsmtFullBath      2\n",
       "BsmtHalfBath      2\n",
       "GarageYrBlt      78\n",
       "GarageCars        1\n",
       "GarageArea        1\n",
       "dtype: int64"
      ]
     },
     "execution_count": 49,
     "metadata": {},
     "output_type": "execute_result"
    }
   ],
   "source": [
    "t1.isnull().sum()"
   ]
  },
  {
   "cell_type": "code",
   "execution_count": 50,
   "metadata": {},
   "outputs": [
    {
     "name": "stderr",
     "output_type": "stream",
     "text": [
      "E:\\New folder (2)\\lib\\site-packages\\pandas\\core\\generic.py:5434: SettingWithCopyWarning: \n",
      "A value is trying to be set on a copy of a slice from a DataFrame\n",
      "\n",
      "See the caveats in the documentation: http://pandas.pydata.org/pandas-docs/stable/indexing.html#indexing-view-versus-copy\n",
      "  self._update_inplace(new_data)\n"
     ]
    }
   ],
   "source": [
    "\n",
    "t1[\"LotFrontage\"].fillna(t1[\"LotFrontage\"].mean(),inplace=True)\n",
    "t1[\"MasVnrArea\"].fillna(t1[\"MasVnrArea\"].mean(),inplace=True)\n",
    "t1[\"BsmtFinSF1\"].fillna(t1[\"BsmtFinSF1\"].mean(),inplace=True)\n",
    "t1[\"BsmtFinSF2\"].fillna(t1[\"BsmtFinSF2\"].mean(),inplace=True)\n",
    "t1[\"BsmtUnfSF\"].fillna(t1[\"BsmtUnfSF\"].mean(),inplace=True)\n",
    "t1[\"TotalBsmtSF\"].fillna(t1[\"TotalBsmtSF\"].mean(),inplace=True)\n",
    "t1[\"BsmtFullBath\"].fillna(t1[\"BsmtFullBath\"].mean(),inplace=True)\n",
    "t1[\"BsmtHalfBath\"].fillna(t1[\"BsmtHalfBath\"].mean(),inplace=True)\n",
    "t1[\"GarageYrBlt\"].fillna(t1[\"GarageYrBlt\"].mean(),inplace=True)\n",
    "t1[\"GarageCars\"].fillna(t1[\"GarageCars\"].mean(),inplace=True)\n",
    "t1[\"GarageArea\"].fillna(t1[\"GarageArea\"].mean(),inplace=True)\n",
    "\n"
   ]
  },
  {
   "cell_type": "code",
   "execution_count": 51,
   "metadata": {},
   "outputs": [],
   "source": [
    "t2=test.loc[:,test.dtypes==np.int64]\n"
   ]
  },
  {
   "cell_type": "code",
   "execution_count": 52,
   "metadata": {},
   "outputs": [
    {
     "data": {
      "text/html": [
       "<div>\n",
       "<style scoped>\n",
       "    .dataframe tbody tr th:only-of-type {\n",
       "        vertical-align: middle;\n",
       "    }\n",
       "\n",
       "    .dataframe tbody tr th {\n",
       "        vertical-align: top;\n",
       "    }\n",
       "\n",
       "    .dataframe thead th {\n",
       "        text-align: right;\n",
       "    }\n",
       "</style>\n",
       "<table border=\"1\" class=\"dataframe\">\n",
       "  <thead>\n",
       "    <tr style=\"text-align: right;\">\n",
       "      <th></th>\n",
       "      <th>Id</th>\n",
       "      <th>MSSubClass</th>\n",
       "      <th>LotArea</th>\n",
       "      <th>OverallQual</th>\n",
       "      <th>OverallCond</th>\n",
       "      <th>YearBuilt</th>\n",
       "      <th>YearRemodAdd</th>\n",
       "      <th>1stFlrSF</th>\n",
       "      <th>2ndFlrSF</th>\n",
       "      <th>LowQualFinSF</th>\n",
       "      <th>...</th>\n",
       "      <th>Fireplaces</th>\n",
       "      <th>WoodDeckSF</th>\n",
       "      <th>OpenPorchSF</th>\n",
       "      <th>EnclosedPorch</th>\n",
       "      <th>3SsnPorch</th>\n",
       "      <th>ScreenPorch</th>\n",
       "      <th>PoolArea</th>\n",
       "      <th>MiscVal</th>\n",
       "      <th>MoSold</th>\n",
       "      <th>YrSold</th>\n",
       "    </tr>\n",
       "  </thead>\n",
       "  <tbody>\n",
       "    <tr>\n",
       "      <th>0</th>\n",
       "      <td>1461</td>\n",
       "      <td>20</td>\n",
       "      <td>11622</td>\n",
       "      <td>5</td>\n",
       "      <td>6</td>\n",
       "      <td>1961</td>\n",
       "      <td>1961</td>\n",
       "      <td>896</td>\n",
       "      <td>0</td>\n",
       "      <td>0</td>\n",
       "      <td>...</td>\n",
       "      <td>0</td>\n",
       "      <td>140</td>\n",
       "      <td>0</td>\n",
       "      <td>0</td>\n",
       "      <td>0</td>\n",
       "      <td>120</td>\n",
       "      <td>0</td>\n",
       "      <td>0</td>\n",
       "      <td>6</td>\n",
       "      <td>2010</td>\n",
       "    </tr>\n",
       "    <tr>\n",
       "      <th>1</th>\n",
       "      <td>1462</td>\n",
       "      <td>20</td>\n",
       "      <td>14267</td>\n",
       "      <td>6</td>\n",
       "      <td>6</td>\n",
       "      <td>1958</td>\n",
       "      <td>1958</td>\n",
       "      <td>1329</td>\n",
       "      <td>0</td>\n",
       "      <td>0</td>\n",
       "      <td>...</td>\n",
       "      <td>0</td>\n",
       "      <td>393</td>\n",
       "      <td>36</td>\n",
       "      <td>0</td>\n",
       "      <td>0</td>\n",
       "      <td>0</td>\n",
       "      <td>0</td>\n",
       "      <td>12500</td>\n",
       "      <td>6</td>\n",
       "      <td>2010</td>\n",
       "    </tr>\n",
       "    <tr>\n",
       "      <th>2</th>\n",
       "      <td>1463</td>\n",
       "      <td>60</td>\n",
       "      <td>13830</td>\n",
       "      <td>5</td>\n",
       "      <td>5</td>\n",
       "      <td>1997</td>\n",
       "      <td>1998</td>\n",
       "      <td>928</td>\n",
       "      <td>701</td>\n",
       "      <td>0</td>\n",
       "      <td>...</td>\n",
       "      <td>1</td>\n",
       "      <td>212</td>\n",
       "      <td>34</td>\n",
       "      <td>0</td>\n",
       "      <td>0</td>\n",
       "      <td>0</td>\n",
       "      <td>0</td>\n",
       "      <td>0</td>\n",
       "      <td>3</td>\n",
       "      <td>2010</td>\n",
       "    </tr>\n",
       "    <tr>\n",
       "      <th>3</th>\n",
       "      <td>1464</td>\n",
       "      <td>60</td>\n",
       "      <td>9978</td>\n",
       "      <td>6</td>\n",
       "      <td>6</td>\n",
       "      <td>1998</td>\n",
       "      <td>1998</td>\n",
       "      <td>926</td>\n",
       "      <td>678</td>\n",
       "      <td>0</td>\n",
       "      <td>...</td>\n",
       "      <td>1</td>\n",
       "      <td>360</td>\n",
       "      <td>36</td>\n",
       "      <td>0</td>\n",
       "      <td>0</td>\n",
       "      <td>0</td>\n",
       "      <td>0</td>\n",
       "      <td>0</td>\n",
       "      <td>6</td>\n",
       "      <td>2010</td>\n",
       "    </tr>\n",
       "    <tr>\n",
       "      <th>4</th>\n",
       "      <td>1465</td>\n",
       "      <td>120</td>\n",
       "      <td>5005</td>\n",
       "      <td>8</td>\n",
       "      <td>5</td>\n",
       "      <td>1992</td>\n",
       "      <td>1992</td>\n",
       "      <td>1280</td>\n",
       "      <td>0</td>\n",
       "      <td>0</td>\n",
       "      <td>...</td>\n",
       "      <td>0</td>\n",
       "      <td>0</td>\n",
       "      <td>82</td>\n",
       "      <td>0</td>\n",
       "      <td>0</td>\n",
       "      <td>144</td>\n",
       "      <td>0</td>\n",
       "      <td>0</td>\n",
       "      <td>1</td>\n",
       "      <td>2010</td>\n",
       "    </tr>\n",
       "  </tbody>\n",
       "</table>\n",
       "<p>5 rows × 26 columns</p>\n",
       "</div>"
      ],
      "text/plain": [
       "     Id  MSSubClass  LotArea  OverallQual  OverallCond  YearBuilt  \\\n",
       "0  1461          20    11622            5            6       1961   \n",
       "1  1462          20    14267            6            6       1958   \n",
       "2  1463          60    13830            5            5       1997   \n",
       "3  1464          60     9978            6            6       1998   \n",
       "4  1465         120     5005            8            5       1992   \n",
       "\n",
       "   YearRemodAdd  1stFlrSF  2ndFlrSF  LowQualFinSF   ...    Fireplaces  \\\n",
       "0          1961       896         0             0   ...             0   \n",
       "1          1958      1329         0             0   ...             0   \n",
       "2          1998       928       701             0   ...             1   \n",
       "3          1998       926       678             0   ...             1   \n",
       "4          1992      1280         0             0   ...             0   \n",
       "\n",
       "   WoodDeckSF  OpenPorchSF  EnclosedPorch  3SsnPorch  ScreenPorch  PoolArea  \\\n",
       "0         140            0              0          0          120         0   \n",
       "1         393           36              0          0            0         0   \n",
       "2         212           34              0          0            0         0   \n",
       "3         360           36              0          0            0         0   \n",
       "4           0           82              0          0          144         0   \n",
       "\n",
       "   MiscVal  MoSold  YrSold  \n",
       "0        0       6    2010  \n",
       "1    12500       6    2010  \n",
       "2        0       3    2010  \n",
       "3        0       6    2010  \n",
       "4        0       1    2010  \n",
       "\n",
       "[5 rows x 26 columns]"
      ]
     },
     "execution_count": 52,
     "metadata": {},
     "output_type": "execute_result"
    }
   ],
   "source": [
    "t2=test.loc[:,test.dtypes==np.int64]\n",
    "t2.head()"
   ]
  },
  {
   "cell_type": "code",
   "execution_count": 53,
   "metadata": {},
   "outputs": [
    {
     "data": {
      "text/plain": [
       "Id               0\n",
       "MSSubClass       0\n",
       "LotArea          0\n",
       "OverallQual      0\n",
       "OverallCond      0\n",
       "YearBuilt        0\n",
       "YearRemodAdd     0\n",
       "1stFlrSF         0\n",
       "2ndFlrSF         0\n",
       "LowQualFinSF     0\n",
       "GrLivArea        0\n",
       "FullBath         0\n",
       "HalfBath         0\n",
       "BedroomAbvGr     0\n",
       "KitchenAbvGr     0\n",
       "TotRmsAbvGrd     0\n",
       "Fireplaces       0\n",
       "WoodDeckSF       0\n",
       "OpenPorchSF      0\n",
       "EnclosedPorch    0\n",
       "3SsnPorch        0\n",
       "ScreenPorch      0\n",
       "PoolArea         0\n",
       "MiscVal          0\n",
       "MoSold           0\n",
       "YrSold           0\n",
       "dtype: int64"
      ]
     },
     "execution_count": 53,
     "metadata": {},
     "output_type": "execute_result"
    }
   ],
   "source": [
    "t2.isnull().sum()"
   ]
  },
  {
   "cell_type": "code",
   "execution_count": 54,
   "metadata": {},
   "outputs": [
    {
     "data": {
      "text/plain": [
       "(1459, 11)"
      ]
     },
     "execution_count": 54,
     "metadata": {},
     "output_type": "execute_result"
    }
   ],
   "source": [
    "t1.shape"
   ]
  },
  {
   "cell_type": "code",
   "execution_count": 55,
   "metadata": {},
   "outputs": [
    {
     "data": {
      "text/plain": [
       "(1459, 26)"
      ]
     },
     "execution_count": 55,
     "metadata": {},
     "output_type": "execute_result"
    }
   ],
   "source": [
    "t2.shape"
   ]
  },
  {
   "cell_type": "code",
   "execution_count": 56,
   "metadata": {},
   "outputs": [],
   "source": [
    "t2new=t2[[\"MSSubClass\",\"LotArea\",\"OverallQual\",\"OverallCond\",\"YearBuilt\",\"GrLivArea\",\"BedroomAbvGr\",\"TotRmsAbvGrd\"]]"
   ]
  },
  {
   "cell_type": "code",
   "execution_count": 57,
   "metadata": {},
   "outputs": [],
   "source": [
    "t1new=t1[[\"LotFrontage\",\"MasVnrArea\",\"BsmtFinSF1\",\"GarageYrBlt\",\"GarageCars\"]]"
   ]
  },
  {
   "cell_type": "code",
   "execution_count": null,
   "metadata": {},
   "outputs": [],
   "source": []
  },
  {
   "cell_type": "code",
   "execution_count": 58,
   "metadata": {},
   "outputs": [],
   "source": [
    "new2=pd.concat([t1new,t2new], axis=1, ignore_index=False)"
   ]
  },
  {
   "cell_type": "code",
   "execution_count": 59,
   "metadata": {},
   "outputs": [],
   "source": [
    "new2=new2[[\"LotFrontage\",\"MasVnrArea\",\"GarageYrBlt\",\"MSSubClass\",\"LotArea\",\"OverallQual\",\"OverallCond\",\"YearBuilt\",\"BsmtFinSF1\",\"GrLivArea\",\"BedroomAbvGr\",\"TotRmsAbvGrd\",\"GarageCars\"]]"
   ]
  },
  {
   "cell_type": "code",
   "execution_count": 60,
   "metadata": {},
   "outputs": [
    {
     "data": {
      "text/html": [
       "<div>\n",
       "<style scoped>\n",
       "    .dataframe tbody tr th:only-of-type {\n",
       "        vertical-align: middle;\n",
       "    }\n",
       "\n",
       "    .dataframe tbody tr th {\n",
       "        vertical-align: top;\n",
       "    }\n",
       "\n",
       "    .dataframe thead th {\n",
       "        text-align: right;\n",
       "    }\n",
       "</style>\n",
       "<table border=\"1\" class=\"dataframe\">\n",
       "  <thead>\n",
       "    <tr style=\"text-align: right;\">\n",
       "      <th></th>\n",
       "      <th>LotFrontage</th>\n",
       "      <th>MasVnrArea</th>\n",
       "      <th>GarageYrBlt</th>\n",
       "      <th>MSSubClass</th>\n",
       "      <th>LotArea</th>\n",
       "      <th>OverallQual</th>\n",
       "      <th>OverallCond</th>\n",
       "      <th>YearBuilt</th>\n",
       "      <th>BsmtFinSF1</th>\n",
       "      <th>GrLivArea</th>\n",
       "      <th>BedroomAbvGr</th>\n",
       "      <th>TotRmsAbvGrd</th>\n",
       "      <th>GarageCars</th>\n",
       "    </tr>\n",
       "  </thead>\n",
       "  <tbody>\n",
       "    <tr>\n",
       "      <th>0</th>\n",
       "      <td>80.0</td>\n",
       "      <td>0.0</td>\n",
       "      <td>1961.0</td>\n",
       "      <td>20</td>\n",
       "      <td>11622</td>\n",
       "      <td>5</td>\n",
       "      <td>6</td>\n",
       "      <td>1961</td>\n",
       "      <td>468.0</td>\n",
       "      <td>896</td>\n",
       "      <td>2</td>\n",
       "      <td>5</td>\n",
       "      <td>1.0</td>\n",
       "    </tr>\n",
       "    <tr>\n",
       "      <th>1</th>\n",
       "      <td>81.0</td>\n",
       "      <td>108.0</td>\n",
       "      <td>1958.0</td>\n",
       "      <td>20</td>\n",
       "      <td>14267</td>\n",
       "      <td>6</td>\n",
       "      <td>6</td>\n",
       "      <td>1958</td>\n",
       "      <td>923.0</td>\n",
       "      <td>1329</td>\n",
       "      <td>3</td>\n",
       "      <td>6</td>\n",
       "      <td>1.0</td>\n",
       "    </tr>\n",
       "    <tr>\n",
       "      <th>2</th>\n",
       "      <td>74.0</td>\n",
       "      <td>0.0</td>\n",
       "      <td>1997.0</td>\n",
       "      <td>60</td>\n",
       "      <td>13830</td>\n",
       "      <td>5</td>\n",
       "      <td>5</td>\n",
       "      <td>1997</td>\n",
       "      <td>791.0</td>\n",
       "      <td>1629</td>\n",
       "      <td>3</td>\n",
       "      <td>6</td>\n",
       "      <td>2.0</td>\n",
       "    </tr>\n",
       "    <tr>\n",
       "      <th>3</th>\n",
       "      <td>78.0</td>\n",
       "      <td>20.0</td>\n",
       "      <td>1998.0</td>\n",
       "      <td>60</td>\n",
       "      <td>9978</td>\n",
       "      <td>6</td>\n",
       "      <td>6</td>\n",
       "      <td>1998</td>\n",
       "      <td>602.0</td>\n",
       "      <td>1604</td>\n",
       "      <td>3</td>\n",
       "      <td>7</td>\n",
       "      <td>2.0</td>\n",
       "    </tr>\n",
       "    <tr>\n",
       "      <th>4</th>\n",
       "      <td>43.0</td>\n",
       "      <td>0.0</td>\n",
       "      <td>1992.0</td>\n",
       "      <td>120</td>\n",
       "      <td>5005</td>\n",
       "      <td>8</td>\n",
       "      <td>5</td>\n",
       "      <td>1992</td>\n",
       "      <td>263.0</td>\n",
       "      <td>1280</td>\n",
       "      <td>2</td>\n",
       "      <td>5</td>\n",
       "      <td>2.0</td>\n",
       "    </tr>\n",
       "  </tbody>\n",
       "</table>\n",
       "</div>"
      ],
      "text/plain": [
       "   LotFrontage  MasVnrArea  GarageYrBlt  MSSubClass  LotArea  OverallQual  \\\n",
       "0         80.0         0.0       1961.0          20    11622            5   \n",
       "1         81.0       108.0       1958.0          20    14267            6   \n",
       "2         74.0         0.0       1997.0          60    13830            5   \n",
       "3         78.0        20.0       1998.0          60     9978            6   \n",
       "4         43.0         0.0       1992.0         120     5005            8   \n",
       "\n",
       "   OverallCond  YearBuilt  BsmtFinSF1  GrLivArea  BedroomAbvGr  TotRmsAbvGrd  \\\n",
       "0            6       1961       468.0        896             2             5   \n",
       "1            6       1958       923.0       1329             3             6   \n",
       "2            5       1997       791.0       1629             3             6   \n",
       "3            6       1998       602.0       1604             3             7   \n",
       "4            5       1992       263.0       1280             2             5   \n",
       "\n",
       "   GarageCars  \n",
       "0         1.0  \n",
       "1         1.0  \n",
       "2         2.0  \n",
       "3         2.0  \n",
       "4         2.0  "
      ]
     },
     "execution_count": 60,
     "metadata": {},
     "output_type": "execute_result"
    }
   ],
   "source": [
    "new2.head()"
   ]
  },
  {
   "cell_type": "code",
   "execution_count": 61,
   "metadata": {},
   "outputs": [
    {
     "data": {
      "text/plain": [
       "(1459, 13)"
      ]
     },
     "execution_count": 61,
     "metadata": {},
     "output_type": "execute_result"
    }
   ],
   "source": [
    "new2.shape"
   ]
  },
  {
   "cell_type": "code",
   "execution_count": 62,
   "metadata": {},
   "outputs": [
    {
     "data": {
      "text/plain": [
       "(1460, 13)"
      ]
     },
     "execution_count": 62,
     "metadata": {},
     "output_type": "execute_result"
    }
   ],
   "source": [
    "new.shape"
   ]
  },
  {
   "cell_type": "code",
   "execution_count": 63,
   "metadata": {},
   "outputs": [
    {
     "data": {
      "text/html": [
       "<div>\n",
       "<style scoped>\n",
       "    .dataframe tbody tr th:only-of-type {\n",
       "        vertical-align: middle;\n",
       "    }\n",
       "\n",
       "    .dataframe tbody tr th {\n",
       "        vertical-align: top;\n",
       "    }\n",
       "\n",
       "    .dataframe thead th {\n",
       "        text-align: right;\n",
       "    }\n",
       "</style>\n",
       "<table border=\"1\" class=\"dataframe\">\n",
       "  <thead>\n",
       "    <tr style=\"text-align: right;\">\n",
       "      <th></th>\n",
       "      <th>LotFrontage</th>\n",
       "      <th>MasVnrArea</th>\n",
       "      <th>GarageYrBlt</th>\n",
       "      <th>MSSubClass</th>\n",
       "      <th>LotArea</th>\n",
       "      <th>OverallQual</th>\n",
       "      <th>OverallCond</th>\n",
       "      <th>YearBuilt</th>\n",
       "      <th>BsmtFinSF1</th>\n",
       "      <th>GrLivArea</th>\n",
       "      <th>BedroomAbvGr</th>\n",
       "      <th>TotRmsAbvGrd</th>\n",
       "      <th>GarageCars</th>\n",
       "    </tr>\n",
       "  </thead>\n",
       "  <tbody>\n",
       "    <tr>\n",
       "      <th>0</th>\n",
       "      <td>65</td>\n",
       "      <td>196</td>\n",
       "      <td>2003</td>\n",
       "      <td>60</td>\n",
       "      <td>8450</td>\n",
       "      <td>7</td>\n",
       "      <td>5</td>\n",
       "      <td>2003</td>\n",
       "      <td>706</td>\n",
       "      <td>1710</td>\n",
       "      <td>3</td>\n",
       "      <td>8</td>\n",
       "      <td>2</td>\n",
       "    </tr>\n",
       "    <tr>\n",
       "      <th>1</th>\n",
       "      <td>80</td>\n",
       "      <td>0</td>\n",
       "      <td>1976</td>\n",
       "      <td>20</td>\n",
       "      <td>9600</td>\n",
       "      <td>6</td>\n",
       "      <td>8</td>\n",
       "      <td>1976</td>\n",
       "      <td>978</td>\n",
       "      <td>1262</td>\n",
       "      <td>3</td>\n",
       "      <td>6</td>\n",
       "      <td>2</td>\n",
       "    </tr>\n",
       "    <tr>\n",
       "      <th>2</th>\n",
       "      <td>68</td>\n",
       "      <td>162</td>\n",
       "      <td>2001</td>\n",
       "      <td>60</td>\n",
       "      <td>11250</td>\n",
       "      <td>7</td>\n",
       "      <td>5</td>\n",
       "      <td>2001</td>\n",
       "      <td>486</td>\n",
       "      <td>1786</td>\n",
       "      <td>3</td>\n",
       "      <td>6</td>\n",
       "      <td>2</td>\n",
       "    </tr>\n",
       "    <tr>\n",
       "      <th>3</th>\n",
       "      <td>60</td>\n",
       "      <td>0</td>\n",
       "      <td>1998</td>\n",
       "      <td>70</td>\n",
       "      <td>9550</td>\n",
       "      <td>7</td>\n",
       "      <td>5</td>\n",
       "      <td>1915</td>\n",
       "      <td>216</td>\n",
       "      <td>1717</td>\n",
       "      <td>3</td>\n",
       "      <td>7</td>\n",
       "      <td>3</td>\n",
       "    </tr>\n",
       "    <tr>\n",
       "      <th>4</th>\n",
       "      <td>84</td>\n",
       "      <td>350</td>\n",
       "      <td>2000</td>\n",
       "      <td>60</td>\n",
       "      <td>14260</td>\n",
       "      <td>8</td>\n",
       "      <td>5</td>\n",
       "      <td>2000</td>\n",
       "      <td>655</td>\n",
       "      <td>2198</td>\n",
       "      <td>4</td>\n",
       "      <td>9</td>\n",
       "      <td>3</td>\n",
       "    </tr>\n",
       "  </tbody>\n",
       "</table>\n",
       "</div>"
      ],
      "text/plain": [
       "   LotFrontage  MasVnrArea  GarageYrBlt  MSSubClass  LotArea  OverallQual  \\\n",
       "0           65         196         2003          60     8450            7   \n",
       "1           80           0         1976          20     9600            6   \n",
       "2           68         162         2001          60    11250            7   \n",
       "3           60           0         1998          70     9550            7   \n",
       "4           84         350         2000          60    14260            8   \n",
       "\n",
       "   OverallCond  YearBuilt  BsmtFinSF1  GrLivArea  BedroomAbvGr  TotRmsAbvGrd  \\\n",
       "0            5       2003         706       1710             3             8   \n",
       "1            8       1976         978       1262             3             6   \n",
       "2            5       2001         486       1786             3             6   \n",
       "3            5       1915         216       1717             3             7   \n",
       "4            5       2000         655       2198             4             9   \n",
       "\n",
       "   GarageCars  \n",
       "0           2  \n",
       "1           2  \n",
       "2           2  \n",
       "3           3  \n",
       "4           3  "
      ]
     },
     "execution_count": 63,
     "metadata": {},
     "output_type": "execute_result"
    }
   ],
   "source": [
    "new.head()"
   ]
  },
  {
   "cell_type": "code",
   "execution_count": 64,
   "metadata": {},
   "outputs": [
    {
     "data": {
      "text/html": [
       "<div>\n",
       "<style scoped>\n",
       "    .dataframe tbody tr th:only-of-type {\n",
       "        vertical-align: middle;\n",
       "    }\n",
       "\n",
       "    .dataframe tbody tr th {\n",
       "        vertical-align: top;\n",
       "    }\n",
       "\n",
       "    .dataframe thead th {\n",
       "        text-align: right;\n",
       "    }\n",
       "</style>\n",
       "<table border=\"1\" class=\"dataframe\">\n",
       "  <thead>\n",
       "    <tr style=\"text-align: right;\">\n",
       "      <th></th>\n",
       "      <th>LotFrontage</th>\n",
       "      <th>MasVnrArea</th>\n",
       "      <th>GarageYrBlt</th>\n",
       "      <th>MSSubClass</th>\n",
       "      <th>LotArea</th>\n",
       "      <th>OverallQual</th>\n",
       "      <th>OverallCond</th>\n",
       "      <th>YearBuilt</th>\n",
       "      <th>BsmtFinSF1</th>\n",
       "      <th>GrLivArea</th>\n",
       "      <th>BedroomAbvGr</th>\n",
       "      <th>TotRmsAbvGrd</th>\n",
       "      <th>GarageCars</th>\n",
       "    </tr>\n",
       "  </thead>\n",
       "  <tbody>\n",
       "    <tr>\n",
       "      <th>0</th>\n",
       "      <td>80.0</td>\n",
       "      <td>0.0</td>\n",
       "      <td>1961.0</td>\n",
       "      <td>20</td>\n",
       "      <td>11622</td>\n",
       "      <td>5</td>\n",
       "      <td>6</td>\n",
       "      <td>1961</td>\n",
       "      <td>468.0</td>\n",
       "      <td>896</td>\n",
       "      <td>2</td>\n",
       "      <td>5</td>\n",
       "      <td>1.0</td>\n",
       "    </tr>\n",
       "    <tr>\n",
       "      <th>1</th>\n",
       "      <td>81.0</td>\n",
       "      <td>108.0</td>\n",
       "      <td>1958.0</td>\n",
       "      <td>20</td>\n",
       "      <td>14267</td>\n",
       "      <td>6</td>\n",
       "      <td>6</td>\n",
       "      <td>1958</td>\n",
       "      <td>923.0</td>\n",
       "      <td>1329</td>\n",
       "      <td>3</td>\n",
       "      <td>6</td>\n",
       "      <td>1.0</td>\n",
       "    </tr>\n",
       "    <tr>\n",
       "      <th>2</th>\n",
       "      <td>74.0</td>\n",
       "      <td>0.0</td>\n",
       "      <td>1997.0</td>\n",
       "      <td>60</td>\n",
       "      <td>13830</td>\n",
       "      <td>5</td>\n",
       "      <td>5</td>\n",
       "      <td>1997</td>\n",
       "      <td>791.0</td>\n",
       "      <td>1629</td>\n",
       "      <td>3</td>\n",
       "      <td>6</td>\n",
       "      <td>2.0</td>\n",
       "    </tr>\n",
       "    <tr>\n",
       "      <th>3</th>\n",
       "      <td>78.0</td>\n",
       "      <td>20.0</td>\n",
       "      <td>1998.0</td>\n",
       "      <td>60</td>\n",
       "      <td>9978</td>\n",
       "      <td>6</td>\n",
       "      <td>6</td>\n",
       "      <td>1998</td>\n",
       "      <td>602.0</td>\n",
       "      <td>1604</td>\n",
       "      <td>3</td>\n",
       "      <td>7</td>\n",
       "      <td>2.0</td>\n",
       "    </tr>\n",
       "    <tr>\n",
       "      <th>4</th>\n",
       "      <td>43.0</td>\n",
       "      <td>0.0</td>\n",
       "      <td>1992.0</td>\n",
       "      <td>120</td>\n",
       "      <td>5005</td>\n",
       "      <td>8</td>\n",
       "      <td>5</td>\n",
       "      <td>1992</td>\n",
       "      <td>263.0</td>\n",
       "      <td>1280</td>\n",
       "      <td>2</td>\n",
       "      <td>5</td>\n",
       "      <td>2.0</td>\n",
       "    </tr>\n",
       "  </tbody>\n",
       "</table>\n",
       "</div>"
      ],
      "text/plain": [
       "   LotFrontage  MasVnrArea  GarageYrBlt  MSSubClass  LotArea  OverallQual  \\\n",
       "0         80.0         0.0       1961.0          20    11622            5   \n",
       "1         81.0       108.0       1958.0          20    14267            6   \n",
       "2         74.0         0.0       1997.0          60    13830            5   \n",
       "3         78.0        20.0       1998.0          60     9978            6   \n",
       "4         43.0         0.0       1992.0         120     5005            8   \n",
       "\n",
       "   OverallCond  YearBuilt  BsmtFinSF1  GrLivArea  BedroomAbvGr  TotRmsAbvGrd  \\\n",
       "0            6       1961       468.0        896             2             5   \n",
       "1            6       1958       923.0       1329             3             6   \n",
       "2            5       1997       791.0       1629             3             6   \n",
       "3            6       1998       602.0       1604             3             7   \n",
       "4            5       1992       263.0       1280             2             5   \n",
       "\n",
       "   GarageCars  \n",
       "0         1.0  \n",
       "1         1.0  \n",
       "2         2.0  \n",
       "3         2.0  \n",
       "4         2.0  "
      ]
     },
     "execution_count": 64,
     "metadata": {},
     "output_type": "execute_result"
    }
   ],
   "source": [
    "new2.head()"
   ]
  },
  {
   "cell_type": "code",
   "execution_count": 65,
   "metadata": {},
   "outputs": [
    {
     "data": {
      "text/plain": [
       "LotFrontage     0\n",
       "MasVnrArea      0\n",
       "GarageYrBlt     0\n",
       "MSSubClass      0\n",
       "LotArea         0\n",
       "OverallQual     0\n",
       "OverallCond     0\n",
       "YearBuilt       0\n",
       "BsmtFinSF1      0\n",
       "GrLivArea       0\n",
       "BedroomAbvGr    0\n",
       "TotRmsAbvGrd    0\n",
       "GarageCars      0\n",
       "dtype: int64"
      ]
     },
     "execution_count": 65,
     "metadata": {},
     "output_type": "execute_result"
    }
   ],
   "source": [
    "new2.isnull().sum()"
   ]
  },
  {
   "cell_type": "code",
   "execution_count": 66,
   "metadata": {},
   "outputs": [],
   "source": [
    "y_pred=reg.predict(new2)"
   ]
  },
  {
   "cell_type": "code",
   "execution_count": 67,
   "metadata": {},
   "outputs": [
    {
     "data": {
      "text/plain": [
       "array([144000, 135000, 129000, ..., 135960,  84500, 180000], dtype=int64)"
      ]
     },
     "execution_count": 67,
     "metadata": {},
     "output_type": "execute_result"
    }
   ],
   "source": [
    "y_pred"
   ]
  },
  {
   "cell_type": "code",
   "execution_count": 68,
   "metadata": {},
   "outputs": [
    {
     "data": {
      "text/plain": [
       "(1459,)"
      ]
     },
     "execution_count": 68,
     "metadata": {},
     "output_type": "execute_result"
    }
   ],
   "source": [
    "y_pred.shape"
   ]
  },
  {
   "cell_type": "code",
   "execution_count": 69,
   "metadata": {},
   "outputs": [],
   "source": [
    "Id=np.array(test[\"Id\"])"
   ]
  },
  {
   "cell_type": "code",
   "execution_count": 70,
   "metadata": {},
   "outputs": [
    {
     "name": "stdout",
     "output_type": "stream",
     "text": [
      "      salePrice\n",
      "1461     144000\n",
      "1462     135000\n",
      "1463     129000\n",
      "1464     190000\n",
      "1465     151000\n",
      "1466     178000\n",
      "1467     129900\n",
      "1468     178000\n",
      "1469     180000\n",
      "1470     123000\n",
      "1471     245500\n",
      "1472      83000\n",
      "1473      85400\n",
      "1474     148500\n",
      "1475     147400\n",
      "1476     191000\n",
      "1477     235128\n",
      "1478     245000\n",
      "1479     320000\n",
      "1480     336000\n",
      "1481     190000\n",
      "1482     202500\n",
      "1483     158500\n",
      "1484     160200\n",
      "1485     180000\n",
      "1486     181000\n",
      "1487     281213\n",
      "1488     287090\n",
      "1489     121000\n",
      "1490     163500\n",
      "...         ...\n",
      "2890     108000\n",
      "2891     155000\n",
      "2892     108000\n",
      "2893     113000\n",
      "2894      96500\n",
      "2895     196000\n",
      "2896      92000\n",
      "2897     185000\n",
      "2898     135500\n",
      "2899     176485\n",
      "2900     145000\n",
      "2901     240000\n",
      "2902     196000\n",
      "2903     180000\n",
      "2904     220000\n",
      "2905     134432\n",
      "2906     144000\n",
      "2907      93000\n",
      "2908     142000\n",
      "2909     171000\n",
      "2910      92000\n",
      "2911      88000\n",
      "2912     135000\n",
      "2913      88000\n",
      "2914     147400\n",
      "2915     147400\n",
      "2916      88000\n",
      "2917     135960\n",
      "2918      84500\n",
      "2919     180000\n",
      "\n",
      "[1459 rows x 1 columns]\n"
     ]
    }
   ],
   "source": [
    "salesol= pd.DataFrame(y_pred,Id,columns = [\"salePrice\"])\n",
    "print(salesol)"
   ]
  },
  {
   "cell_type": "code",
   "execution_count": null,
   "metadata": {},
   "outputs": [],
   "source": []
  },
  {
   "cell_type": "code",
   "execution_count": 71,
   "metadata": {},
   "outputs": [
    {
     "data": {
      "text/html": [
       "<div>\n",
       "<style scoped>\n",
       "    .dataframe tbody tr th:only-of-type {\n",
       "        vertical-align: middle;\n",
       "    }\n",
       "\n",
       "    .dataframe tbody tr th {\n",
       "        vertical-align: top;\n",
       "    }\n",
       "\n",
       "    .dataframe thead th {\n",
       "        text-align: right;\n",
       "    }\n",
       "</style>\n",
       "<table border=\"1\" class=\"dataframe\">\n",
       "  <thead>\n",
       "    <tr style=\"text-align: right;\">\n",
       "      <th></th>\n",
       "      <th>salePrice</th>\n",
       "    </tr>\n",
       "  </thead>\n",
       "  <tbody>\n",
       "    <tr>\n",
       "      <th>1461</th>\n",
       "      <td>144000</td>\n",
       "    </tr>\n",
       "    <tr>\n",
       "      <th>1462</th>\n",
       "      <td>135000</td>\n",
       "    </tr>\n",
       "    <tr>\n",
       "      <th>1463</th>\n",
       "      <td>129000</td>\n",
       "    </tr>\n",
       "    <tr>\n",
       "      <th>1464</th>\n",
       "      <td>190000</td>\n",
       "    </tr>\n",
       "    <tr>\n",
       "      <th>1465</th>\n",
       "      <td>151000</td>\n",
       "    </tr>\n",
       "  </tbody>\n",
       "</table>\n",
       "</div>"
      ],
      "text/plain": [
       "      salePrice\n",
       "1461     144000\n",
       "1462     135000\n",
       "1463     129000\n",
       "1464     190000\n",
       "1465     151000"
      ]
     },
     "execution_count": 71,
     "metadata": {},
     "output_type": "execute_result"
    }
   ],
   "source": [
    "salesol.head()"
   ]
  },
  {
   "cell_type": "code",
   "execution_count": 71,
   "metadata": {},
   "outputs": [],
   "source": [
    "salesol.to_csv(\"salesol.csv\", index_label =[\"Id\"])"
   ]
  },
  {
   "cell_type": "code",
   "execution_count": 72,
   "metadata": {},
   "outputs": [
    {
     "data": {
      "text/plain": [
       "(1459, 1)"
      ]
     },
     "execution_count": 72,
     "metadata": {},
     "output_type": "execute_result"
    }
   ],
   "source": [
    "salesol.shape"
   ]
  },
  {
   "cell_type": "code",
   "execution_count": 73,
   "metadata": {},
   "outputs": [
    {
     "data": {
      "text/html": [
       "<div>\n",
       "<style scoped>\n",
       "    .dataframe tbody tr th:only-of-type {\n",
       "        vertical-align: middle;\n",
       "    }\n",
       "\n",
       "    .dataframe tbody tr th {\n",
       "        vertical-align: top;\n",
       "    }\n",
       "\n",
       "    .dataframe thead th {\n",
       "        text-align: right;\n",
       "    }\n",
       "</style>\n",
       "<table border=\"1\" class=\"dataframe\">\n",
       "  <thead>\n",
       "    <tr style=\"text-align: right;\">\n",
       "      <th></th>\n",
       "      <th>Id</th>\n",
       "      <th>SalePrice</th>\n",
       "    </tr>\n",
       "  </thead>\n",
       "  <tbody>\n",
       "    <tr>\n",
       "      <th>0</th>\n",
       "      <td>1461</td>\n",
       "      <td>169277.052498</td>\n",
       "    </tr>\n",
       "    <tr>\n",
       "      <th>1</th>\n",
       "      <td>1462</td>\n",
       "      <td>187758.393989</td>\n",
       "    </tr>\n",
       "    <tr>\n",
       "      <th>2</th>\n",
       "      <td>1463</td>\n",
       "      <td>183583.683570</td>\n",
       "    </tr>\n",
       "    <tr>\n",
       "      <th>3</th>\n",
       "      <td>1464</td>\n",
       "      <td>179317.477511</td>\n",
       "    </tr>\n",
       "    <tr>\n",
       "      <th>4</th>\n",
       "      <td>1465</td>\n",
       "      <td>150730.079977</td>\n",
       "    </tr>\n",
       "  </tbody>\n",
       "</table>\n",
       "</div>"
      ],
      "text/plain": [
       "     Id      SalePrice\n",
       "0  1461  169277.052498\n",
       "1  1462  187758.393989\n",
       "2  1463  183583.683570\n",
       "3  1464  179317.477511\n",
       "4  1465  150730.079977"
      ]
     },
     "execution_count": 73,
     "metadata": {},
     "output_type": "execute_result"
    }
   ],
   "source": [
    "ss=pd.read_csv(\"new123.csv\")\n",
    "ss.head()"
   ]
  },
  {
   "cell_type": "code",
   "execution_count": 74,
   "metadata": {},
   "outputs": [],
   "source": [
    "newsam=pd.read_csv(\"salesol.csv\")"
   ]
  },
  {
   "cell_type": "code",
   "execution_count": 75,
   "metadata": {},
   "outputs": [
    {
     "data": {
      "text/html": [
       "<div>\n",
       "<style scoped>\n",
       "    .dataframe tbody tr th:only-of-type {\n",
       "        vertical-align: middle;\n",
       "    }\n",
       "\n",
       "    .dataframe tbody tr th {\n",
       "        vertical-align: top;\n",
       "    }\n",
       "\n",
       "    .dataframe thead th {\n",
       "        text-align: right;\n",
       "    }\n",
       "</style>\n",
       "<table border=\"1\" class=\"dataframe\">\n",
       "  <thead>\n",
       "    <tr style=\"text-align: right;\">\n",
       "      <th></th>\n",
       "      <th>Id</th>\n",
       "      <th>salePrice</th>\n",
       "    </tr>\n",
       "  </thead>\n",
       "  <tbody>\n",
       "    <tr>\n",
       "      <th>0</th>\n",
       "      <td>1461</td>\n",
       "      <td>123413.690222</td>\n",
       "    </tr>\n",
       "    <tr>\n",
       "      <th>1</th>\n",
       "      <td>1462</td>\n",
       "      <td>169790.040353</td>\n",
       "    </tr>\n",
       "    <tr>\n",
       "      <th>2</th>\n",
       "      <td>1463</td>\n",
       "      <td>177810.851406</td>\n",
       "    </tr>\n",
       "    <tr>\n",
       "      <th>3</th>\n",
       "      <td>1464</td>\n",
       "      <td>201380.487038</td>\n",
       "    </tr>\n",
       "    <tr>\n",
       "      <th>4</th>\n",
       "      <td>1465</td>\n",
       "      <td>197289.735169</td>\n",
       "    </tr>\n",
       "  </tbody>\n",
       "</table>\n",
       "</div>"
      ],
      "text/plain": [
       "     Id      salePrice\n",
       "0  1461  123413.690222\n",
       "1  1462  169790.040353\n",
       "2  1463  177810.851406\n",
       "3  1464  201380.487038\n",
       "4  1465  197289.735169"
      ]
     },
     "execution_count": 75,
     "metadata": {},
     "output_type": "execute_result"
    }
   ],
   "source": [
    "newsam.head()"
   ]
  },
  {
   "cell_type": "code",
   "execution_count": 77,
   "metadata": {},
   "outputs": [
    {
     "data": {
      "text/plain": [
       "(1168, 13)"
      ]
     },
     "execution_count": 77,
     "metadata": {},
     "output_type": "execute_result"
    }
   ],
   "source": [
    "xtrain.shape"
   ]
  },
  {
   "cell_type": "code",
   "execution_count": 82,
   "metadata": {},
   "outputs": [
    {
     "data": {
      "text/plain": [
       "array([[152000],\n",
       "       [248900],\n",
       "       [174000],\n",
       "       ...,\n",
       "       [131000],\n",
       "       [198900],\n",
       "       [136905]], dtype=int64)"
      ]
     },
     "execution_count": 82,
     "metadata": {},
     "output_type": "execute_result"
    }
   ],
   "source": [
    "ytrain.values.reshape(-1,1)\n"
   ]
  },
  {
   "cell_type": "code",
   "execution_count": 83,
   "metadata": {},
   "outputs": [
    {
     "data": {
      "text/plain": [
       "(1168,)"
      ]
     },
     "execution_count": 83,
     "metadata": {},
     "output_type": "execute_result"
    }
   ],
   "source": [
    "ytrain.shape"
   ]
  },
  {
   "cell_type": "code",
   "execution_count": 93,
   "metadata": {},
   "outputs": [
    {
     "ename": "ValueError",
     "evalue": "x and y must have same first dimension, but have shapes (1460, 81) and (1459, 80)",
     "output_type": "error",
     "traceback": [
      "\u001b[1;31m---------------------------------------------------------------------------\u001b[0m",
      "\u001b[1;31mValueError\u001b[0m                                Traceback (most recent call last)",
      "\u001b[1;32m<ipython-input-93-d011ad7c4148>\u001b[0m in \u001b[0;36m<module>\u001b[1;34m\u001b[0m\n\u001b[1;32m----> 1\u001b[1;33m \u001b[0mplt\u001b[0m\u001b[1;33m.\u001b[0m\u001b[0mplot\u001b[0m\u001b[1;33m(\u001b[0m\u001b[0mx\u001b[0m\u001b[1;33m,\u001b[0m\u001b[0mtest\u001b[0m\u001b[1;33m)\u001b[0m\u001b[1;33m\u001b[0m\u001b[1;33m\u001b[0m\u001b[0m\n\u001b[0m\u001b[0;32m      2\u001b[0m \u001b[0mplt\u001b[0m\u001b[1;33m.\u001b[0m\u001b[0mshow\u001b[0m\u001b[1;33m(\u001b[0m\u001b[1;33m)\u001b[0m\u001b[1;33m\u001b[0m\u001b[1;33m\u001b[0m\u001b[0m\n",
      "\u001b[1;32mE:\\New folder (2)\\lib\\site-packages\\matplotlib\\pyplot.py\u001b[0m in \u001b[0;36mplot\u001b[1;34m(scalex, scaley, data, *args, **kwargs)\u001b[0m\n\u001b[0;32m   2811\u001b[0m     return gca().plot(\n\u001b[0;32m   2812\u001b[0m         *args, scalex=scalex, scaley=scaley, **({\"data\": data} if data\n\u001b[1;32m-> 2813\u001b[1;33m         is not None else {}), **kwargs)\n\u001b[0m\u001b[0;32m   2814\u001b[0m \u001b[1;33m\u001b[0m\u001b[0m\n\u001b[0;32m   2815\u001b[0m \u001b[1;33m\u001b[0m\u001b[0m\n",
      "\u001b[1;32mE:\\New folder (2)\\lib\\site-packages\\matplotlib\\__init__.py\u001b[0m in \u001b[0;36minner\u001b[1;34m(ax, data, *args, **kwargs)\u001b[0m\n\u001b[0;32m   1808\u001b[0m                         \u001b[1;34m\"the Matplotlib list!)\"\u001b[0m \u001b[1;33m%\u001b[0m \u001b[1;33m(\u001b[0m\u001b[0mlabel_namer\u001b[0m\u001b[1;33m,\u001b[0m \u001b[0mfunc\u001b[0m\u001b[1;33m.\u001b[0m\u001b[0m__name__\u001b[0m\u001b[1;33m)\u001b[0m\u001b[1;33m,\u001b[0m\u001b[1;33m\u001b[0m\u001b[1;33m\u001b[0m\u001b[0m\n\u001b[0;32m   1809\u001b[0m                         RuntimeWarning, stacklevel=2)\n\u001b[1;32m-> 1810\u001b[1;33m             \u001b[1;32mreturn\u001b[0m \u001b[0mfunc\u001b[0m\u001b[1;33m(\u001b[0m\u001b[0max\u001b[0m\u001b[1;33m,\u001b[0m \u001b[1;33m*\u001b[0m\u001b[0margs\u001b[0m\u001b[1;33m,\u001b[0m \u001b[1;33m**\u001b[0m\u001b[0mkwargs\u001b[0m\u001b[1;33m)\u001b[0m\u001b[1;33m\u001b[0m\u001b[1;33m\u001b[0m\u001b[0m\n\u001b[0m\u001b[0;32m   1811\u001b[0m \u001b[1;33m\u001b[0m\u001b[0m\n\u001b[0;32m   1812\u001b[0m         inner.__doc__ = _add_data_doc(inner.__doc__,\n",
      "\u001b[1;32mE:\\New folder (2)\\lib\\site-packages\\matplotlib\\axes\\_axes.py\u001b[0m in \u001b[0;36mplot\u001b[1;34m(self, scalex, scaley, *args, **kwargs)\u001b[0m\n\u001b[0;32m   1609\u001b[0m         \u001b[0mkwargs\u001b[0m \u001b[1;33m=\u001b[0m \u001b[0mcbook\u001b[0m\u001b[1;33m.\u001b[0m\u001b[0mnormalize_kwargs\u001b[0m\u001b[1;33m(\u001b[0m\u001b[0mkwargs\u001b[0m\u001b[1;33m,\u001b[0m \u001b[0mmlines\u001b[0m\u001b[1;33m.\u001b[0m\u001b[0mLine2D\u001b[0m\u001b[1;33m.\u001b[0m\u001b[0m_alias_map\u001b[0m\u001b[1;33m)\u001b[0m\u001b[1;33m\u001b[0m\u001b[1;33m\u001b[0m\u001b[0m\n\u001b[0;32m   1610\u001b[0m \u001b[1;33m\u001b[0m\u001b[0m\n\u001b[1;32m-> 1611\u001b[1;33m         \u001b[1;32mfor\u001b[0m \u001b[0mline\u001b[0m \u001b[1;32min\u001b[0m \u001b[0mself\u001b[0m\u001b[1;33m.\u001b[0m\u001b[0m_get_lines\u001b[0m\u001b[1;33m(\u001b[0m\u001b[1;33m*\u001b[0m\u001b[0margs\u001b[0m\u001b[1;33m,\u001b[0m \u001b[1;33m**\u001b[0m\u001b[0mkwargs\u001b[0m\u001b[1;33m)\u001b[0m\u001b[1;33m:\u001b[0m\u001b[1;33m\u001b[0m\u001b[1;33m\u001b[0m\u001b[0m\n\u001b[0m\u001b[0;32m   1612\u001b[0m             \u001b[0mself\u001b[0m\u001b[1;33m.\u001b[0m\u001b[0madd_line\u001b[0m\u001b[1;33m(\u001b[0m\u001b[0mline\u001b[0m\u001b[1;33m)\u001b[0m\u001b[1;33m\u001b[0m\u001b[1;33m\u001b[0m\u001b[0m\n\u001b[0;32m   1613\u001b[0m             \u001b[0mlines\u001b[0m\u001b[1;33m.\u001b[0m\u001b[0mappend\u001b[0m\u001b[1;33m(\u001b[0m\u001b[0mline\u001b[0m\u001b[1;33m)\u001b[0m\u001b[1;33m\u001b[0m\u001b[1;33m\u001b[0m\u001b[0m\n",
      "\u001b[1;32mE:\\New folder (2)\\lib\\site-packages\\matplotlib\\axes\\_base.py\u001b[0m in \u001b[0;36m_grab_next_args\u001b[1;34m(self, *args, **kwargs)\u001b[0m\n\u001b[0;32m    391\u001b[0m                 \u001b[0mthis\u001b[0m \u001b[1;33m+=\u001b[0m \u001b[0margs\u001b[0m\u001b[1;33m[\u001b[0m\u001b[1;36m0\u001b[0m\u001b[1;33m]\u001b[0m\u001b[1;33m,\u001b[0m\u001b[1;33m\u001b[0m\u001b[1;33m\u001b[0m\u001b[0m\n\u001b[0;32m    392\u001b[0m                 \u001b[0margs\u001b[0m \u001b[1;33m=\u001b[0m \u001b[0margs\u001b[0m\u001b[1;33m[\u001b[0m\u001b[1;36m1\u001b[0m\u001b[1;33m:\u001b[0m\u001b[1;33m]\u001b[0m\u001b[1;33m\u001b[0m\u001b[1;33m\u001b[0m\u001b[0m\n\u001b[1;32m--> 393\u001b[1;33m             \u001b[1;32myield\u001b[0m \u001b[1;32mfrom\u001b[0m \u001b[0mself\u001b[0m\u001b[1;33m.\u001b[0m\u001b[0m_plot_args\u001b[0m\u001b[1;33m(\u001b[0m\u001b[0mthis\u001b[0m\u001b[1;33m,\u001b[0m \u001b[0mkwargs\u001b[0m\u001b[1;33m)\u001b[0m\u001b[1;33m\u001b[0m\u001b[1;33m\u001b[0m\u001b[0m\n\u001b[0m\u001b[0;32m    394\u001b[0m \u001b[1;33m\u001b[0m\u001b[0m\n\u001b[0;32m    395\u001b[0m \u001b[1;33m\u001b[0m\u001b[0m\n",
      "\u001b[1;32mE:\\New folder (2)\\lib\\site-packages\\matplotlib\\axes\\_base.py\u001b[0m in \u001b[0;36m_plot_args\u001b[1;34m(self, tup, kwargs)\u001b[0m\n\u001b[0;32m    368\u001b[0m             \u001b[0mx\u001b[0m\u001b[1;33m,\u001b[0m \u001b[0my\u001b[0m \u001b[1;33m=\u001b[0m \u001b[0mindex_of\u001b[0m\u001b[1;33m(\u001b[0m\u001b[0mtup\u001b[0m\u001b[1;33m[\u001b[0m\u001b[1;33m-\u001b[0m\u001b[1;36m1\u001b[0m\u001b[1;33m]\u001b[0m\u001b[1;33m)\u001b[0m\u001b[1;33m\u001b[0m\u001b[1;33m\u001b[0m\u001b[0m\n\u001b[0;32m    369\u001b[0m \u001b[1;33m\u001b[0m\u001b[0m\n\u001b[1;32m--> 370\u001b[1;33m         \u001b[0mx\u001b[0m\u001b[1;33m,\u001b[0m \u001b[0my\u001b[0m \u001b[1;33m=\u001b[0m \u001b[0mself\u001b[0m\u001b[1;33m.\u001b[0m\u001b[0m_xy_from_xy\u001b[0m\u001b[1;33m(\u001b[0m\u001b[0mx\u001b[0m\u001b[1;33m,\u001b[0m \u001b[0my\u001b[0m\u001b[1;33m)\u001b[0m\u001b[1;33m\u001b[0m\u001b[1;33m\u001b[0m\u001b[0m\n\u001b[0m\u001b[0;32m    371\u001b[0m \u001b[1;33m\u001b[0m\u001b[0m\n\u001b[0;32m    372\u001b[0m         \u001b[1;32mif\u001b[0m \u001b[0mself\u001b[0m\u001b[1;33m.\u001b[0m\u001b[0mcommand\u001b[0m \u001b[1;33m==\u001b[0m \u001b[1;34m'plot'\u001b[0m\u001b[1;33m:\u001b[0m\u001b[1;33m\u001b[0m\u001b[1;33m\u001b[0m\u001b[0m\n",
      "\u001b[1;32mE:\\New folder (2)\\lib\\site-packages\\matplotlib\\axes\\_base.py\u001b[0m in \u001b[0;36m_xy_from_xy\u001b[1;34m(self, x, y)\u001b[0m\n\u001b[0;32m    229\u001b[0m         \u001b[1;32mif\u001b[0m \u001b[0mx\u001b[0m\u001b[1;33m.\u001b[0m\u001b[0mshape\u001b[0m\u001b[1;33m[\u001b[0m\u001b[1;36m0\u001b[0m\u001b[1;33m]\u001b[0m \u001b[1;33m!=\u001b[0m \u001b[0my\u001b[0m\u001b[1;33m.\u001b[0m\u001b[0mshape\u001b[0m\u001b[1;33m[\u001b[0m\u001b[1;36m0\u001b[0m\u001b[1;33m]\u001b[0m\u001b[1;33m:\u001b[0m\u001b[1;33m\u001b[0m\u001b[1;33m\u001b[0m\u001b[0m\n\u001b[0;32m    230\u001b[0m             raise ValueError(\"x and y must have same first dimension, but \"\n\u001b[1;32m--> 231\u001b[1;33m                              \"have shapes {} and {}\".format(x.shape, y.shape))\n\u001b[0m\u001b[0;32m    232\u001b[0m         \u001b[1;32mif\u001b[0m \u001b[0mx\u001b[0m\u001b[1;33m.\u001b[0m\u001b[0mndim\u001b[0m \u001b[1;33m>\u001b[0m \u001b[1;36m2\u001b[0m \u001b[1;32mor\u001b[0m \u001b[0my\u001b[0m\u001b[1;33m.\u001b[0m\u001b[0mndim\u001b[0m \u001b[1;33m>\u001b[0m \u001b[1;36m2\u001b[0m\u001b[1;33m:\u001b[0m\u001b[1;33m\u001b[0m\u001b[1;33m\u001b[0m\u001b[0m\n\u001b[0;32m    233\u001b[0m             raise ValueError(\"x and y can be no greater than 2-D, but have \"\n",
      "\u001b[1;31mValueError\u001b[0m: x and y must have same first dimension, but have shapes (1460, 81) and (1459, 80)"
     ]
    },
    {
     "data": {
      "image/png": "[encoded data removed]",
      "text/plain": [
       "<Figure size 432x288 with 1 Axes>"
      ]
     },
     "metadata": {
      "needs_background": "light"
     },
     "output_type": "display_data"
    }
   ],
   "source": [
    "plt.plot(x,test)\n",
    "plt.show()"
   ]
  },
  {
   "cell_type": "code",
   "execution_count": 86,
   "metadata": {},
   "outputs": [
    {
     "data": {
      "text/html": [
       "<div>\n",
       "<style scoped>\n",
       "    .dataframe tbody tr th:only-of-type {\n",
       "        vertical-align: middle;\n",
       "    }\n",
       "\n",
       "    .dataframe tbody tr th {\n",
       "        vertical-align: top;\n",
       "    }\n",
       "\n",
       "    .dataframe thead th {\n",
       "        text-align: right;\n",
       "    }\n",
       "</style>\n",
       "<table border=\"1\" class=\"dataframe\">\n",
       "  <thead>\n",
       "    <tr style=\"text-align: right;\">\n",
       "      <th></th>\n",
       "      <th>LotFrontage</th>\n",
       "      <th>MasVnrArea</th>\n",
       "      <th>GarageYrBlt</th>\n",
       "      <th>MSSubClass</th>\n",
       "      <th>LotArea</th>\n",
       "      <th>OverallQual</th>\n",
       "      <th>OverallCond</th>\n",
       "      <th>YearBuilt</th>\n",
       "      <th>BsmtFinSF1</th>\n",
       "      <th>GrLivArea</th>\n",
       "      <th>BedroomAbvGr</th>\n",
       "      <th>TotRmsAbvGrd</th>\n",
       "      <th>GarageCars</th>\n",
       "    </tr>\n",
       "  </thead>\n",
       "  <tbody>\n",
       "    <tr>\n",
       "      <th>643</th>\n",
       "      <td>80</td>\n",
       "      <td>263</td>\n",
       "      <td>1969</td>\n",
       "      <td>60</td>\n",
       "      <td>10793</td>\n",
       "      <td>5</td>\n",
       "      <td>5</td>\n",
       "      <td>1969</td>\n",
       "      <td>493</td>\n",
       "      <td>1620</td>\n",
       "      <td>4</td>\n",
       "      <td>7</td>\n",
       "      <td>2</td>\n",
       "    </tr>\n",
       "    <tr>\n",
       "      <th>866</th>\n",
       "      <td>67</td>\n",
       "      <td>274</td>\n",
       "      <td>2007</td>\n",
       "      <td>20</td>\n",
       "      <td>10656</td>\n",
       "      <td>8</td>\n",
       "      <td>5</td>\n",
       "      <td>2006</td>\n",
       "      <td>0</td>\n",
       "      <td>1646</td>\n",
       "      <td>3</td>\n",
       "      <td>6</td>\n",
       "      <td>3</td>\n",
       "    </tr>\n",
       "    <tr>\n",
       "      <th>1126</th>\n",
       "      <td>53</td>\n",
       "      <td>130</td>\n",
       "      <td>2007</td>\n",
       "      <td>120</td>\n",
       "      <td>3684</td>\n",
       "      <td>7</td>\n",
       "      <td>5</td>\n",
       "      <td>2007</td>\n",
       "      <td>0</td>\n",
       "      <td>1555</td>\n",
       "      <td>2</td>\n",
       "      <td>7</td>\n",
       "      <td>3</td>\n",
       "    </tr>\n",
       "    <tr>\n",
       "      <th>862</th>\n",
       "      <td>81</td>\n",
       "      <td>0</td>\n",
       "      <td>1986</td>\n",
       "      <td>20</td>\n",
       "      <td>9672</td>\n",
       "      <td>6</td>\n",
       "      <td>5</td>\n",
       "      <td>1984</td>\n",
       "      <td>338</td>\n",
       "      <td>1097</td>\n",
       "      <td>3</td>\n",
       "      <td>6</td>\n",
       "      <td>2</td>\n",
       "    </tr>\n",
       "    <tr>\n",
       "      <th>3</th>\n",
       "      <td>60</td>\n",
       "      <td>0</td>\n",
       "      <td>1998</td>\n",
       "      <td>70</td>\n",
       "      <td>9550</td>\n",
       "      <td>7</td>\n",
       "      <td>5</td>\n",
       "      <td>1915</td>\n",
       "      <td>216</td>\n",
       "      <td>1717</td>\n",
       "      <td>3</td>\n",
       "      <td>7</td>\n",
       "      <td>3</td>\n",
       "    </tr>\n",
       "  </tbody>\n",
       "</table>\n",
       "</div>"
      ],
      "text/plain": [
       "      LotFrontage  MasVnrArea  GarageYrBlt  MSSubClass  LotArea  OverallQual  \\\n",
       "643            80         263         1969          60    10793            5   \n",
       "866            67         274         2007          20    10656            8   \n",
       "1126           53         130         2007         120     3684            7   \n",
       "862            81           0         1986          20     9672            6   \n",
       "3              60           0         1998          70     9550            7   \n",
       "\n",
       "      OverallCond  YearBuilt  BsmtFinSF1  GrLivArea  BedroomAbvGr  \\\n",
       "643             5       1969         493       1620             4   \n",
       "866             5       2006           0       1646             3   \n",
       "1126            5       2007           0       1555             2   \n",
       "862             5       1984         338       1097             3   \n",
       "3               5       1915         216       1717             3   \n",
       "\n",
       "      TotRmsAbvGrd  GarageCars  \n",
       "643              7           2  \n",
       "866              6           3  \n",
       "1126             7           3  \n",
       "862              6           2  \n",
       "3                7           3  "
      ]
     },
     "execution_count": 86,
     "metadata": {},
     "output_type": "execute_result"
    }
   ],
   "source": [
    "xtrain.head()"
   ]
  },
  {
   "cell_type": "code",
   "execution_count": null,
   "metadata": {},
   "outputs": [],
   "source": []
  },
  {
   "cell_type": "code",
   "execution_count": 89,
   "metadata": {},
   "outputs": [],
   "source": [
    "obs=100\n",
    "xs=np.random.uniform(low=1,high=10,size=(obs,2))\n",
    "zs=np.random.uniform(1,10,(obs,1))\n",
    "g=np.column_stack((xs,zs))\n",
    "noise=np.random.uniform(1,10,(obs,1))\n",
    "gt=2*xs-3*zs+5+noise\n"
   ]
  },
  {
   "cell_type": "code",
   "execution_count": 90,
   "metadata": {},
   "outputs": [
    {
     "data": {
      "text/plain": [
       "(100, 2)"
      ]
     },
     "execution_count": 90,
     "metadata": {},
     "output_type": "execute_result"
    }
   ],
   "source": [
    "xs.shape"
   ]
  },
  {
   "cell_type": "code",
   "execution_count": 91,
   "metadata": {},
   "outputs": [
    {
     "data": {
      "text/plain": [
       "(100, 1)"
      ]
     },
     "execution_count": 91,
     "metadata": {},
     "output_type": "execute_result"
    }
   ],
   "source": [
    "zs.shape"
   ]
  },
  {
   "cell_type": "code",
   "execution_count": 92,
   "metadata": {},
   "outputs": [
    {
     "data": {
      "text/plain": [
       "array([[2.35642185, 2.17957338],\n",
       "       [8.68380745, 9.17657946],\n",
       "       [7.80806888, 7.00668942],\n",
       "       [3.78846769, 2.74706892],\n",
       "       [9.29690558, 9.48107954],\n",
       "       [5.32023487, 3.05490299],\n",
       "       [1.56893263, 9.48803261],\n",
       "       [4.31745411, 5.24962889],\n",
       "       [7.21047782, 6.75946017],\n",
       "       [9.1501295 , 6.49450071],\n",
       "       [6.69392173, 4.22135224],\n",
       "       [3.47818393, 2.77305612],\n",
       "       [9.42533319, 4.80219871],\n",
       "       [4.24907135, 9.03305409],\n",
       "       [8.08690067, 5.74959332],\n",
       "       [9.11367221, 9.6044428 ],\n",
       "       [3.31871236, 2.72743529],\n",
       "       [1.25582361, 7.29884574],\n",
       "       [8.14214739, 6.60158954],\n",
       "       [7.5130506 , 2.31490514],\n",
       "       [3.61039081, 5.55633277],\n",
       "       [3.88748056, 4.1762727 ],\n",
       "       [4.35336479, 1.47140876],\n",
       "       [9.04426135, 5.23129695],\n",
       "       [1.55443045, 5.6340397 ],\n",
       "       [2.49135994, 9.47855435],\n",
       "       [9.66096887, 9.2958305 ],\n",
       "       [3.54413304, 5.71610006],\n",
       "       [6.19339574, 6.40453581],\n",
       "       [9.3859135 , 6.29205139],\n",
       "       [4.47363593, 7.15674702],\n",
       "       [3.56120849, 4.2250644 ],\n",
       "       [2.50196917, 7.86102553],\n",
       "       [5.66983311, 2.61666409],\n",
       "       [5.99317388, 5.79909413],\n",
       "       [2.83526118, 7.21286611],\n",
       "       [4.37316268, 8.18024953],\n",
       "       [4.49166237, 7.69295437],\n",
       "       [6.45560245, 6.01507691],\n",
       "       [5.32868754, 4.18986938],\n",
       "       [9.37731151, 2.04147699],\n",
       "       [6.40827484, 9.51281864],\n",
       "       [7.85879338, 2.01905454],\n",
       "       [2.0440985 , 6.763617  ],\n",
       "       [3.20829062, 4.95231376],\n",
       "       [5.77252472, 1.79594291],\n",
       "       [9.49641407, 6.071199  ],\n",
       "       [2.24318334, 3.3189181 ],\n",
       "       [7.79952139, 7.367287  ],\n",
       "       [1.01238711, 3.73279178],\n",
       "       [3.38420793, 7.9032123 ],\n",
       "       [7.21509116, 2.77937849],\n",
       "       [8.43842323, 2.89648951],\n",
       "       [7.2482057 , 8.42353288],\n",
       "       [6.45160677, 8.35727205],\n",
       "       [7.42857065, 1.3478005 ],\n",
       "       [3.72335361, 6.20044928],\n",
       "       [1.42722079, 3.23358196],\n",
       "       [2.87979536, 4.62986659],\n",
       "       [8.11391856, 1.19821886],\n",
       "       [3.08284235, 6.62332872],\n",
       "       [5.51266006, 2.86812764],\n",
       "       [8.10584703, 7.00213337],\n",
       "       [5.08392646, 8.68053524],\n",
       "       [8.81866979, 8.63362774],\n",
       "       [1.33219621, 1.64204635],\n",
       "       [8.46819301, 4.15522274],\n",
       "       [1.89185561, 9.6973947 ],\n",
       "       [5.92590373, 9.1458512 ],\n",
       "       [4.00042311, 6.95115319],\n",
       "       [5.70518829, 8.29715645],\n",
       "       [1.53809865, 3.84713216],\n",
       "       [2.05815446, 4.32718408],\n",
       "       [3.02262033, 4.38383492],\n",
       "       [9.81031044, 3.23110622],\n",
       "       [3.86154999, 6.97387588],\n",
       "       [9.23427899, 5.7253851 ],\n",
       "       [5.15494684, 2.61065194],\n",
       "       [6.37957856, 8.13341374],\n",
       "       [6.97441494, 4.33166695],\n",
       "       [4.45990902, 9.10116625],\n",
       "       [6.8923485 , 6.50783542],\n",
       "       [7.56746875, 3.20200957],\n",
       "       [5.10849747, 7.29866332],\n",
       "       [5.1811509 , 7.10053126],\n",
       "       [7.15395874, 1.70310303],\n",
       "       [6.93678659, 3.0683348 ],\n",
       "       [6.38171225, 4.0345054 ],\n",
       "       [6.97376061, 5.31854637],\n",
       "       [6.7536897 , 8.68272829],\n",
       "       [5.58218002, 3.11757747],\n",
       "       [2.29020227, 6.23058016],\n",
       "       [4.27725003, 6.48421774],\n",
       "       [9.84379742, 1.09564284],\n",
       "       [4.73347918, 4.51539572],\n",
       "       [9.12461515, 2.42088815],\n",
       "       [7.77062663, 1.22319477],\n",
       "       [1.73536191, 1.97718401],\n",
       "       [7.82387856, 4.20915418],\n",
       "       [1.02799615, 1.86223996]])"
      ]
     },
     "execution_count": 92,
     "metadata": {},
     "output_type": "execute_result"
    }
   ],
   "source": [
    "xs"
   ]
  },
  {
   "cell_type": "code",
   "execution_count": 80,
   "metadata": {},
   "outputs": [
    {
     "data": {
      "text/plain": [
       "array([[ 0.03299832],\n",
       "       [ 0.49372942],\n",
       "       [-0.76300649],\n",
       "       [ 0.05021063],\n",
       "       [-0.49156294],\n",
       "       [-0.95976412],\n",
       "       [ 0.68073222],\n",
       "       [ 0.81069747],\n",
       "       [-0.49306699],\n",
       "       [-0.28652043],\n",
       "       [ 0.8823001 ],\n",
       "       [ 0.91546041],\n",
       "       [ 0.9934052 ],\n",
       "       [-0.78137918],\n",
       "       [ 0.01798495],\n",
       "       [-0.5422608 ],\n",
       "       [ 0.97232889],\n",
       "       [ 0.2670746 ],\n",
       "       [ 0.92444049],\n",
       "       [-0.12531816],\n",
       "       [ 0.05604833],\n",
       "       [ 0.32156815],\n",
       "       [ 0.60467238],\n",
       "       [ 0.07704213],\n",
       "       [-0.19855666],\n",
       "       [ 0.86544801],\n",
       "       [-0.29175339],\n",
       "       [ 0.0317869 ],\n",
       "       [-0.25523378],\n",
       "       [-0.4321637 ],\n",
       "       [ 0.63353146],\n",
       "       [-0.98022276],\n",
       "       [-0.61500482],\n",
       "       [-0.8361493 ],\n",
       "       [-0.36288489],\n",
       "       [ 0.20138034],\n",
       "       [ 0.01613439],\n",
       "       [ 0.88361783],\n",
       "       [ 0.6980165 ],\n",
       "       [-0.12136094],\n",
       "       [-0.81621157],\n",
       "       [-0.00502449],\n",
       "       [-0.38164945],\n",
       "       [-0.80152809],\n",
       "       [-0.74028922],\n",
       "       [ 0.51582855],\n",
       "       [-0.47721854],\n",
       "       [ 0.90022371],\n",
       "       [-0.24978027],\n",
       "       [-0.4339256 ],\n",
       "       [ 0.50976164],\n",
       "       [ 0.51954666],\n",
       "       [-0.50368941],\n",
       "       [ 0.80677519],\n",
       "       [ 0.90905956],\n",
       "       [ 0.29963652],\n",
       "       [ 0.71140624],\n",
       "       [-0.91455729],\n",
       "       [ 0.92219761],\n",
       "       [-0.12465559],\n",
       "       [ 0.69107127],\n",
       "       [-0.89482415],\n",
       "       [ 0.51344585],\n",
       "       [ 0.63209481],\n",
       "       [-0.92931294],\n",
       "       [ 0.03709484],\n",
       "       [ 0.9638757 ],\n",
       "       [ 0.85318383],\n",
       "       [ 0.64174046],\n",
       "       [-0.50566118],\n",
       "       [ 0.16338177],\n",
       "       [-0.27062153],\n",
       "       [-0.85053515],\n",
       "       [-0.8068652 ],\n",
       "       [-0.57824136],\n",
       "       [ 0.03550136],\n",
       "       [ 0.04307559],\n",
       "       [ 0.36409488],\n",
       "       [-0.77386523],\n",
       "       [-0.16894724],\n",
       "       [ 0.21649272],\n",
       "       [ 0.29780192],\n",
       "       [-0.59954207],\n",
       "       [-0.70736504],\n",
       "       [ 0.57583629],\n",
       "       [ 0.43569413],\n",
       "       [-0.7704575 ],\n",
       "       [ 0.79558838],\n",
       "       [ 0.39420385],\n",
       "       [-0.22562879],\n",
       "       [ 0.87344636],\n",
       "       [-0.86032928],\n",
       "       [ 0.32319506],\n",
       "       [-0.63917547],\n",
       "       [ 0.46205036],\n",
       "       [-0.49625381],\n",
       "       [ 0.82877441],\n",
       "       [ 0.47462628],\n",
       "       [-0.60738691],\n",
       "       [-0.61288882]])"
      ]
     },
     "execution_count": 80,
     "metadata": {},
     "output_type": "execute_result"
    }
   ],
   "source": [
    "noise"
   ]
  },
  {
   "cell_type": "code",
   "execution_count": null,
   "metadata": {},
   "outputs": [],
   "source": []
  }
 ],
 "metadata": {
  "kernelspec": {
   "display_name": "Python 3",
   "language": "python",
   "name": "python3"
  },
  "language_info": {
   "codemirror_mode": {
    "name": "ipython",
    "version": 3
   },
   "file_extension": ".py",
   "mimetype": "text/x-python",
   "name": "python",
   "nbconvert_exporter": "python",
   "pygments_lexer": "ipython3",
   "version": "3.7.1"
  }
 },
 "nbformat": 4,
 "nbformat_minor": 2
}
